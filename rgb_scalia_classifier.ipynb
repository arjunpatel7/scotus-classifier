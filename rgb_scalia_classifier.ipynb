{
 "cells": [
  {
   "cell_type": "code",
   "execution_count": 16,
   "metadata": {},
   "outputs": [],
   "source": [
    "import pandas as pd\n",
    "import numpy as np\n",
    "import matplotlib.pyplot as plt\n",
    "import plotly.express as px\n",
    "\n",
    "\n",
    "opinions = pd.read_csv(\"all_opinions.csv\")"
   ]
  },
  {
   "cell_type": "code",
   "execution_count": 17,
   "metadata": {},
   "outputs": [],
   "source": [
    "rbg_scalia= opinions[(opinions[\"author_name\"] == \"Justice Ginsburg\") |\n",
    "                  (opinions[\"author_name\"] == \"Justice Scalia\")].reset_index(drop = True)"
   ]
  },
  {
   "cell_type": "code",
   "execution_count": 46,
   "metadata": {},
   "outputs": [
    {
     "data": {
      "text/html": [
       "<div>\n",
       "<style scoped>\n",
       "    .dataframe tbody tr th:only-of-type {\n",
       "        vertical-align: middle;\n",
       "    }\n",
       "\n",
       "    .dataframe tbody tr th {\n",
       "        vertical-align: top;\n",
       "    }\n",
       "\n",
       "    .dataframe thead th {\n",
       "        text-align: right;\n",
       "    }\n",
       "</style>\n",
       "<table border=\"1\" class=\"dataframe\">\n",
       "  <thead>\n",
       "    <tr style=\"text-align: right;\">\n",
       "      <th></th>\n",
       "      <th>author_name</th>\n",
       "      <th>category</th>\n",
       "      <th>per_curiam</th>\n",
       "      <th>case_name</th>\n",
       "      <th>date_filed</th>\n",
       "      <th>federal_cite_one</th>\n",
       "      <th>absolute_url</th>\n",
       "      <th>cluster</th>\n",
       "      <th>year_filed</th>\n",
       "      <th>scdb_id</th>\n",
       "      <th>scdb_decision_direction</th>\n",
       "      <th>scdb_votes_majority</th>\n",
       "      <th>scdb_votes_minority</th>\n",
       "      <th>text</th>\n",
       "      <th>num_words</th>\n",
       "      <th>author</th>\n",
       "    </tr>\n",
       "  </thead>\n",
       "  <tbody>\n",
       "    <tr>\n",
       "      <th>0</th>\n",
       "      <td>Justice Ginsburg</td>\n",
       "      <td>dissenting</td>\n",
       "      <td>False</td>\n",
       "      <td>Masterpiece Cakeshop, Ltd. v. Colorado Civil R...</td>\n",
       "      <td>2018-06-13</td>\n",
       "      <td>NaN</td>\n",
       "      <td>https://www.courtlistener.com/opinion/4507882/...</td>\n",
       "      <td>https://www.courtlistener.com/api/rest/v3/clus...</td>\n",
       "      <td>2018</td>\n",
       "      <td>NaN</td>\n",
       "      <td>NaN</td>\n",
       "      <td>NaN</td>\n",
       "      <td>NaN</td>\n",
       "      <td>There is much in the Court’s opinion with whic...</td>\n",
       "      <td>2527</td>\n",
       "      <td>True</td>\n",
       "    </tr>\n",
       "    <tr>\n",
       "      <th>1</th>\n",
       "      <td>Justice Scalia</td>\n",
       "      <td>majority</td>\n",
       "      <td>False</td>\n",
       "      <td>Oncale v. Sundowner Offshore Services, Inc.</td>\n",
       "      <td>1998-03-04</td>\n",
       "      <td>NaN</td>\n",
       "      <td>https://www.courtlistener.com/opinion/118181/o...</td>\n",
       "      <td>https://www.courtlistener.com/api/rest/v3/clus...</td>\n",
       "      <td>1998</td>\n",
       "      <td>1997-037</td>\n",
       "      <td>2.0</td>\n",
       "      <td>9.0</td>\n",
       "      <td>0.0</td>\n",
       "      <td>This case presents the question whether workpl...</td>\n",
       "      <td>1854</td>\n",
       "      <td>False</td>\n",
       "    </tr>\n",
       "    <tr>\n",
       "      <th>2</th>\n",
       "      <td>Justice Scalia</td>\n",
       "      <td>majority</td>\n",
       "      <td>False</td>\n",
       "      <td>Summers v. Earth Island Institute</td>\n",
       "      <td>2009-03-03</td>\n",
       "      <td>NaN</td>\n",
       "      <td>https://www.courtlistener.com/opinion/145904/s...</td>\n",
       "      <td>https://www.courtlistener.com/api/rest/v3/clus...</td>\n",
       "      <td>2009</td>\n",
       "      <td>2008-027</td>\n",
       "      <td>1.0</td>\n",
       "      <td>5.0</td>\n",
       "      <td>4.0</td>\n",
       "      <td>Respondents are a group of organizations dedic...</td>\n",
       "      <td>3634</td>\n",
       "      <td>False</td>\n",
       "    </tr>\n",
       "    <tr>\n",
       "      <th>3</th>\n",
       "      <td>Justice Scalia</td>\n",
       "      <td>majority</td>\n",
       "      <td>False</td>\n",
       "      <td>Budinich v. Becton Dickinson &amp; Co.</td>\n",
       "      <td>1988-05-23</td>\n",
       "      <td>NaN</td>\n",
       "      <td>https://www.courtlistener.com/opinion/112076/b...</td>\n",
       "      <td>https://www.courtlistener.com/api/rest/v3/clus...</td>\n",
       "      <td>1988</td>\n",
       "      <td>1987-088</td>\n",
       "      <td>2.0</td>\n",
       "      <td>9.0</td>\n",
       "      <td>0.0</td>\n",
       "      <td>Petitioner brought this action in Colorado sta...</td>\n",
       "      <td>2134</td>\n",
       "      <td>False</td>\n",
       "    </tr>\n",
       "    <tr>\n",
       "      <th>4</th>\n",
       "      <td>Justice Scalia</td>\n",
       "      <td>majority</td>\n",
       "      <td>False</td>\n",
       "      <td>Reiter v. Cooper</td>\n",
       "      <td>1993-03-08</td>\n",
       "      <td>NaN</td>\n",
       "      <td>https://www.courtlistener.com/opinion/112830/r...</td>\n",
       "      <td>https://www.courtlistener.com/api/rest/v3/clus...</td>\n",
       "      <td>1993</td>\n",
       "      <td>1992-041</td>\n",
       "      <td>2.0</td>\n",
       "      <td>8.0</td>\n",
       "      <td>1.0</td>\n",
       "      <td>This case presents the question whether, when ...</td>\n",
       "      <td>3230</td>\n",
       "      <td>False</td>\n",
       "    </tr>\n",
       "  </tbody>\n",
       "</table>\n",
       "</div>"
      ],
      "text/plain": [
       "        author_name    category  per_curiam  \\\n",
       "0  Justice Ginsburg  dissenting       False   \n",
       "1    Justice Scalia    majority       False   \n",
       "2    Justice Scalia    majority       False   \n",
       "3    Justice Scalia    majority       False   \n",
       "4    Justice Scalia    majority       False   \n",
       "\n",
       "                                           case_name  date_filed  \\\n",
       "0  Masterpiece Cakeshop, Ltd. v. Colorado Civil R...  2018-06-13   \n",
       "1        Oncale v. Sundowner Offshore Services, Inc.  1998-03-04   \n",
       "2                  Summers v. Earth Island Institute  2009-03-03   \n",
       "3                 Budinich v. Becton Dickinson & Co.  1988-05-23   \n",
       "4                                   Reiter v. Cooper  1993-03-08   \n",
       "\n",
       "  federal_cite_one                                       absolute_url  \\\n",
       "0              NaN  https://www.courtlistener.com/opinion/4507882/...   \n",
       "1              NaN  https://www.courtlistener.com/opinion/118181/o...   \n",
       "2              NaN  https://www.courtlistener.com/opinion/145904/s...   \n",
       "3              NaN  https://www.courtlistener.com/opinion/112076/b...   \n",
       "4              NaN  https://www.courtlistener.com/opinion/112830/r...   \n",
       "\n",
       "                                             cluster  year_filed   scdb_id  \\\n",
       "0  https://www.courtlistener.com/api/rest/v3/clus...        2018       NaN   \n",
       "1  https://www.courtlistener.com/api/rest/v3/clus...        1998  1997-037   \n",
       "2  https://www.courtlistener.com/api/rest/v3/clus...        2009  2008-027   \n",
       "3  https://www.courtlistener.com/api/rest/v3/clus...        1988  1987-088   \n",
       "4  https://www.courtlistener.com/api/rest/v3/clus...        1993  1992-041   \n",
       "\n",
       "   scdb_decision_direction  scdb_votes_majority  scdb_votes_minority  \\\n",
       "0                      NaN                  NaN                  NaN   \n",
       "1                      2.0                  9.0                  0.0   \n",
       "2                      1.0                  5.0                  4.0   \n",
       "3                      2.0                  9.0                  0.0   \n",
       "4                      2.0                  8.0                  1.0   \n",
       "\n",
       "                                                text  num_words  author  \n",
       "0  There is much in the Court’s opinion with whic...       2527    True  \n",
       "1  This case presents the question whether workpl...       1854   False  \n",
       "2  Respondents are a group of organizations dedic...       3634   False  \n",
       "3  Petitioner brought this action in Colorado sta...       2134   False  \n",
       "4  This case presents the question whether, when ...       3230   False  "
      ]
     },
     "execution_count": 46,
     "metadata": {},
     "output_type": "execute_result"
    }
   ],
   "source": [
    "rbg_scalia.head()"
   ]
  },
  {
   "cell_type": "markdown",
   "metadata": {},
   "source": [
    "# Exploration of word dists, class dist, and opinions\n",
    "\n",
    "https://www.supremecourt.gov/opinions/opinions.aspx\n"
   ]
  },
  {
   "cell_type": "markdown",
   "metadata": {},
   "source": [
    "Scalia tenure was: September 26, 1986 – February 13, 2016 (30yrs)\n",
    "RBG tenure was: 1993 to 2020 (27 years)"
   ]
  },
  {
   "cell_type": "code",
   "execution_count": 18,
   "metadata": {},
   "outputs": [],
   "source": [
    "rbg_scalia[\"num_words\"] = rbg_scalia.text.apply(lambda x: len(x.split()))"
   ]
  },
  {
   "cell_type": "code",
   "execution_count": 19,
   "metadata": {},
   "outputs": [
    {
     "data": {
      "application/vnd.plotly.v1+json": {
       "config": {
        "plotlyServerURL": "https://plot.ly"
       },
       "data": [
        {
         "alignmentgroup": "True",
         "bingroup": "x",
         "hovertemplate": "author_name=Justice Ginsburg<br>num_words=%{x}<br>count=%{y}<extra></extra>",
         "legendgroup": "Justice Ginsburg",
         "marker": {
          "color": "#636efa",
          "pattern": {
           "shape": ""
          }
         },
         "name": "Justice Ginsburg",
         "offsetgroup": "Justice Ginsburg",
         "orientation": "v",
         "showlegend": true,
         "type": "histogram",
         "x": [
          2527,
          5415,
          6119,
          1549,
          5143,
          8861,
          2553,
          3193,
          594,
          4200,
          2442,
          711,
          2527,
          4709,
          2724,
          4850,
          1442,
          4887,
          4307,
          6255,
          3952,
          10415,
          56,
          4159,
          12621,
          13175,
          3048,
          4911,
          1059,
          9735,
          3356,
          2655,
          4504,
          3830,
          136,
          5439,
          4698,
          3255,
          5426,
          2569,
          1517,
          7533,
          1173,
          3514,
          7150,
          4764,
          4736,
          1348,
          3125,
          2607,
          3184,
          1059,
          286,
          4581,
          5305,
          229,
          2626,
          3050,
          2445,
          3394,
          17309,
          905,
          1686,
          4469,
          8308,
          3162,
          4665,
          5457,
          3534,
          430,
          5743,
          99,
          4774,
          2046,
          816,
          5753,
          2662,
          499,
          5262,
          5115,
          2783,
          2907,
          2892,
          4202,
          13175,
          4711,
          5240,
          14264,
          6896,
          494,
          262,
          3406,
          470,
          3483,
          3768,
          2729,
          4816,
          13175,
          4611,
          3378,
          1522,
          5124,
          4200,
          2971,
          234,
          2638,
          6556,
          3893,
          1668,
          11523,
          1578,
          6622,
          3202,
          3967,
          4516,
          1779,
          3998,
          5022,
          4497,
          9505,
          3340,
          9359,
          2914,
          5070,
          3410,
          2728,
          411,
          3391,
          3997,
          181,
          3871,
          3118,
          3747,
          2009,
          2356,
          11310,
          6569,
          3531,
          3953,
          2992,
          259,
          238,
          4691,
          1626,
          588,
          4445,
          98,
          3471,
          4791,
          17092,
          4275,
          3979,
          3382,
          192,
          2284,
          3685,
          1469,
          2029,
          10026,
          3746,
          3591,
          9217,
          425,
          7242,
          3487,
          162,
          6808,
          3194,
          5646,
          1626,
          3397,
          2105,
          6071,
          4200,
          3526,
          226,
          1345,
          4509,
          6570,
          11522,
          2023,
          5448,
          4898,
          11046,
          1098,
          6550,
          4659,
          3459,
          4659,
          5238,
          2547,
          600,
          411,
          2045,
          271,
          3163,
          2945,
          3211,
          5525,
          4708,
          6011,
          1909,
          10415,
          3483,
          1099,
          286,
          877,
          3166,
          5147,
          5611,
          3688,
          4019,
          188,
          273,
          2041,
          4775,
          1973,
          4844,
          40,
          936,
          221,
          2644,
          10862,
          1583,
          3894,
          10913,
          2921,
          7550,
          2852,
          3630,
          1858,
          522,
          2812,
          5799,
          3604,
          159,
          3732,
          5411,
          3177,
          4381,
          2615,
          3853,
          6164,
          8522,
          2989,
          2072,
          2195,
          4350,
          9969,
          828,
          134,
          2281,
          4433,
          8252,
          2639,
          283,
          9738,
          138,
          3223,
          346,
          1410,
          4855,
          470,
          292,
          9741,
          3812,
          5547,
          3021,
          13022,
          260,
          4424,
          1143,
          534,
          698,
          176,
          2911,
          134,
          2242,
          12444,
          6919,
          5304,
          8062,
          411,
          3058,
          5607,
          6615,
          3066,
          437,
          2527,
          5649,
          4431,
          357,
          2806,
          2679,
          4706,
          6152,
          2316,
          4377,
          3389,
          4481,
          1486,
          1189,
          1453,
          2533,
          3235,
          72,
          3912,
          10557,
          1086,
          4081,
          6267,
          4363,
          4108,
          633,
          5376,
          339,
          2864,
          6888,
          3846,
          9475,
          1699,
          286,
          282,
          2653,
          1836,
          2585,
          6152,
          3926,
          2423,
          376,
          6202,
          4394,
          94,
          2798,
          148,
          4203,
          5530,
          470,
          6111,
          10274,
          5419,
          1811,
          427,
          1575,
          1322,
          2496,
          7533,
          4068,
          141,
          5235,
          5635,
          2673,
          7568,
          3708,
          4494,
          2052,
          3023,
          4807,
          2994,
          651,
          3611,
          4118,
          3286,
          2204,
          539,
          618,
          9259,
          2941,
          1793,
          4439,
          453,
          198,
          4031,
          127,
          6114,
          3006,
          1096,
          3209,
          60,
          4085,
          3263,
          54,
          11055,
          5366,
          2527,
          288,
          3507,
          3861,
          7818,
          2611,
          168,
          4466,
          2579,
          4976,
          3290,
          4357,
          1111,
          4508,
          5511,
          4783,
          4291,
          4125,
          7385,
          1002,
          105,
          3072,
          5870
         ],
         "xaxis": "x",
         "yaxis": "y"
        },
        {
         "alignmentgroup": "True",
         "bingroup": "x",
         "hovertemplate": "author_name=Justice Scalia<br>num_words=%{x}<br>count=%{y}<extra></extra>",
         "legendgroup": "Justice Scalia",
         "marker": {
          "color": "#EF553B",
          "pattern": {
           "shape": ""
          }
         },
         "name": "Justice Scalia",
         "offsetgroup": "Justice Scalia",
         "orientation": "v",
         "showlegend": true,
         "type": "histogram",
         "x": [
          1854,
          3634,
          2134,
          3230,
          573,
          2583,
          3261,
          68,
          1590,
          1874,
          813,
          4323,
          711,
          9450,
          161,
          2035,
          2172,
          2990,
          195,
          3609,
          2003,
          6612,
          903,
          12290,
          301,
          4772,
          2609,
          4157,
          2474,
          4661,
          6595,
          1015,
          1219,
          157,
          2521,
          98,
          137,
          5558,
          992,
          4542,
          1194,
          5377,
          829,
          292,
          2526,
          2576,
          10294,
          4486,
          750,
          11852,
          2897,
          117,
          8648,
          2597,
          2695,
          394,
          1277,
          3672,
          1990,
          6793,
          5902,
          4311,
          5195,
          4289,
          5602,
          347,
          2705,
          1077,
          2416,
          2111,
          1888,
          2629,
          3147,
          3522,
          2242,
          5003,
          883,
          12289,
          1629,
          4910,
          4506,
          4519,
          5690,
          6641,
          18069,
          2706,
          2364,
          5691,
          1477,
          3673,
          282,
          3409,
          226,
          5508,
          1881,
          1742,
          443,
          1411,
          1827,
          1485,
          2344,
          2402,
          2333,
          2815,
          2306,
          98,
          5453,
          864,
          193,
          321,
          5598,
          799,
          579,
          2298,
          2888,
          2752,
          8359,
          185,
          4153,
          6832,
          41,
          3632,
          1869,
          2112,
          744,
          3650,
          3255,
          4837,
          3347,
          69,
          3391,
          1133,
          3644,
          3797,
          2898,
          496,
          1438,
          3620,
          7977,
          7153,
          2817,
          2127,
          4118,
          1581,
          2172,
          2108,
          3287,
          728,
          5683,
          2615,
          1933,
          4574,
          4478,
          3116,
          401,
          1390,
          4118,
          2905,
          4213,
          3910,
          2903,
          2747,
          2094,
          334,
          4229,
          4472,
          3712,
          4463,
          12081,
          2973,
          4731,
          188,
          2752,
          6527,
          2546,
          2323,
          2212,
          4901,
          2874,
          1836,
          3251,
          3059,
          374,
          3724,
          1178,
          2970,
          212,
          3164,
          6425,
          2101,
          1559,
          45,
          5459,
          5627,
          857,
          5840,
          630,
          3242,
          2420,
          2764,
          3460,
          7662,
          4867,
          2247,
          3242,
          365,
          8712,
          371,
          2326,
          88,
          987,
          5963,
          2034,
          1058,
          2950,
          2857,
          437,
          3742,
          8659,
          1625,
          335,
          4975,
          6181,
          2055,
          1578,
          4156,
          2297,
          2974,
          7115,
          3582,
          4006,
          1363,
          4644,
          7322,
          12290,
          349,
          7432,
          222,
          1000,
          3425,
          159,
          3528,
          289,
          1530,
          18063,
          3916,
          2468,
          2760,
          4616,
          136,
          1778,
          3045,
          3261,
          4196,
          10846,
          1297,
          80,
          3543,
          1877,
          2979,
          2079,
          2042,
          5084,
          107,
          316,
          6043,
          9038,
          3447,
          3550,
          4868,
          4275,
          220,
          257,
          3108,
          4290,
          6493,
          454,
          20073,
          5014,
          2547,
          4312,
          8283,
          2902,
          5131,
          1636,
          3207,
          4393,
          741,
          3110,
          1148,
          1080,
          182,
          2508,
          3855,
          10227,
          4012,
          2291,
          2905,
          201,
          3564,
          2247,
          2978,
          2174,
          318,
          2455,
          3262,
          5162,
          3078,
          2953,
          3489,
          9721,
          457,
          424,
          270,
          1697,
          3089,
          4688,
          5570,
          3628,
          5811,
          4326,
          4398,
          3134,
          1346,
          3097,
          16659,
          817,
          4181,
          6876,
          2646,
          1854,
          9953,
          460,
          5945,
          5298,
          2991,
          3564,
          230,
          6601,
          1517,
          250,
          2252,
          1921,
          900,
          2707,
          5269,
          2100,
          1888,
          665,
          1301,
          1726,
          8470,
          794,
          2902,
          5612,
          2880,
          3750,
          14085,
          1497,
          4298,
          3084,
          8283,
          1572,
          4293,
          4753,
          3120,
          7229,
          3886,
          4890,
          6287,
          1381,
          1105,
          3271,
          1047,
          6062,
          732,
          2318,
          272,
          7919,
          5003,
          4506,
          988,
          2269,
          2172,
          2353,
          4766,
          1428,
          23488,
          3577,
          4644,
          1900,
          9761,
          4489,
          4309,
          3177,
          2261,
          2894,
          5334,
          1057,
          705,
          4270,
          3390,
          4694,
          3642,
          5034,
          1597,
          3456,
          3675,
          51,
          6698,
          4388,
          2919,
          7258,
          1121,
          1122,
          334,
          15759,
          8283,
          3348,
          2462,
          7681,
          5003,
          175,
          4935,
          6108,
          6004,
          2935,
          388,
          2661,
          501,
          1546,
          4280,
          3704,
          1413,
          1111,
          6191,
          621,
          3164,
          7233,
          4949,
          1214,
          1446,
          6166,
          6108,
          2257,
          2616,
          1620,
          3644,
          1741,
          6668,
          4046,
          1788,
          281,
          576,
          6577,
          3741,
          2040,
          1990,
          608,
          720,
          5009,
          2561,
          1169,
          2198,
          274,
          3977,
          4824,
          2641,
          3348,
          7405,
          96,
          5000,
          3208,
          2101,
          1131,
          7798,
          1446,
          128,
          3123,
          1181,
          3380,
          4870,
          1560,
          3626,
          6186,
          1037,
          5205,
          1938,
          3372,
          3408,
          5432,
          684,
          890,
          7171,
          3289,
          17712,
          5391,
          731,
          11223,
          7150,
          3552,
          422,
          3822,
          4298,
          2605,
          2757,
          4875,
          4287,
          6232,
          5476,
          2065,
          357,
          1404,
          190,
          6014,
          4333,
          161,
          8281,
          5841,
          1656,
          2187,
          4079,
          418,
          2082,
          2994,
          781,
          3943,
          3669,
          1052,
          684,
          4497,
          14082,
          3495,
          2094,
          4804,
          116,
          5589,
          1933,
          205,
          5349,
          7388,
          4165,
          2279,
          415,
          4399,
          9649,
          3950,
          2697,
          3834,
          8126,
          2157,
          3419,
          2832,
          3290,
          1099,
          3703,
          3882,
          6007,
          1926,
          1981,
          4375,
          3121,
          1229,
          3510,
          2251,
          1663,
          2543,
          3328,
          4622,
          2724,
          1632,
          3260,
          4627,
          499,
          2215,
          256,
          410,
          4399,
          2419,
          2224,
          5954,
          1995,
          2069,
          3621,
          5172,
          54,
          1330,
          2416,
          158,
          1598,
          3751,
          3942,
          824,
          4875,
          2315,
          91,
          2034,
          4033,
          318,
          1540,
          214,
          1284,
          2434,
          2931,
          2313,
          5269,
          4627,
          2793,
          2654,
          347,
          4949,
          2751,
          5911,
          6957,
          720,
          1441,
          2410,
          4408,
          4265,
          2750,
          2058,
          2623,
          4725,
          640,
          4644,
          2213,
          30,
          3644,
          3095,
          1074,
          2769,
          2567,
          7143,
          55,
          725,
          5691,
          5218,
          4604,
          9128,
          1915,
          273,
          2958,
          1370,
          3412,
          235,
          6412,
          298,
          196,
          1771,
          201,
          1858,
          2748,
          861,
          2902,
          679,
          2624,
          4156,
          4635,
          2279,
          3444,
          3210,
          3793,
          466,
          4891,
          4354,
          2520,
          4877,
          390,
          327,
          2820,
          8016,
          4466,
          390,
          6109,
          3051,
          3581,
          721,
          170,
          1648,
          1338,
          5870,
          98,
          1226,
          2541,
          103,
          2210,
          6214,
          771,
          1990,
          568,
          2833,
          4112,
          2002,
          1348,
          2379,
          2471,
          3268,
          3289,
          6522,
          2674,
          316,
          2261,
          3652,
          1428,
          1258,
          2584,
          98,
          3090,
          3416,
          5449,
          3359,
          1794,
          4497,
          5615,
          524,
          699,
          2005,
          2120
         ],
         "xaxis": "x",
         "yaxis": "y"
        }
       ],
       "layout": {
        "autosize": true,
        "barmode": "relative",
        "legend": {
         "title": {
          "text": "author_name"
         },
         "tracegroupgap": 0
        },
        "margin": {
         "t": 60
        },
        "template": {
         "data": {
          "bar": [
           {
            "error_x": {
             "color": "#2a3f5f"
            },
            "error_y": {
             "color": "#2a3f5f"
            },
            "marker": {
             "line": {
              "color": "#E5ECF6",
              "width": 0.5
             },
             "pattern": {
              "fillmode": "overlay",
              "size": 10,
              "solidity": 0.2
             }
            },
            "type": "bar"
           }
          ],
          "barpolar": [
           {
            "marker": {
             "line": {
              "color": "#E5ECF6",
              "width": 0.5
             },
             "pattern": {
              "fillmode": "overlay",
              "size": 10,
              "solidity": 0.2
             }
            },
            "type": "barpolar"
           }
          ],
          "carpet": [
           {
            "aaxis": {
             "endlinecolor": "#2a3f5f",
             "gridcolor": "white",
             "linecolor": "white",
             "minorgridcolor": "white",
             "startlinecolor": "#2a3f5f"
            },
            "baxis": {
             "endlinecolor": "#2a3f5f",
             "gridcolor": "white",
             "linecolor": "white",
             "minorgridcolor": "white",
             "startlinecolor": "#2a3f5f"
            },
            "type": "carpet"
           }
          ],
          "choropleth": [
           {
            "colorbar": {
             "outlinewidth": 0,
             "ticks": ""
            },
            "type": "choropleth"
           }
          ],
          "contour": [
           {
            "colorbar": {
             "outlinewidth": 0,
             "ticks": ""
            },
            "colorscale": [
             [
              0,
              "#0d0887"
             ],
             [
              0.1111111111111111,
              "#46039f"
             ],
             [
              0.2222222222222222,
              "#7201a8"
             ],
             [
              0.3333333333333333,
              "#9c179e"
             ],
             [
              0.4444444444444444,
              "#bd3786"
             ],
             [
              0.5555555555555556,
              "#d8576b"
             ],
             [
              0.6666666666666666,
              "#ed7953"
             ],
             [
              0.7777777777777778,
              "#fb9f3a"
             ],
             [
              0.8888888888888888,
              "#fdca26"
             ],
             [
              1,
              "#f0f921"
             ]
            ],
            "type": "contour"
           }
          ],
          "contourcarpet": [
           {
            "colorbar": {
             "outlinewidth": 0,
             "ticks": ""
            },
            "type": "contourcarpet"
           }
          ],
          "heatmap": [
           {
            "colorbar": {
             "outlinewidth": 0,
             "ticks": ""
            },
            "colorscale": [
             [
              0,
              "#0d0887"
             ],
             [
              0.1111111111111111,
              "#46039f"
             ],
             [
              0.2222222222222222,
              "#7201a8"
             ],
             [
              0.3333333333333333,
              "#9c179e"
             ],
             [
              0.4444444444444444,
              "#bd3786"
             ],
             [
              0.5555555555555556,
              "#d8576b"
             ],
             [
              0.6666666666666666,
              "#ed7953"
             ],
             [
              0.7777777777777778,
              "#fb9f3a"
             ],
             [
              0.8888888888888888,
              "#fdca26"
             ],
             [
              1,
              "#f0f921"
             ]
            ],
            "type": "heatmap"
           }
          ],
          "heatmapgl": [
           {
            "colorbar": {
             "outlinewidth": 0,
             "ticks": ""
            },
            "colorscale": [
             [
              0,
              "#0d0887"
             ],
             [
              0.1111111111111111,
              "#46039f"
             ],
             [
              0.2222222222222222,
              "#7201a8"
             ],
             [
              0.3333333333333333,
              "#9c179e"
             ],
             [
              0.4444444444444444,
              "#bd3786"
             ],
             [
              0.5555555555555556,
              "#d8576b"
             ],
             [
              0.6666666666666666,
              "#ed7953"
             ],
             [
              0.7777777777777778,
              "#fb9f3a"
             ],
             [
              0.8888888888888888,
              "#fdca26"
             ],
             [
              1,
              "#f0f921"
             ]
            ],
            "type": "heatmapgl"
           }
          ],
          "histogram": [
           {
            "marker": {
             "pattern": {
              "fillmode": "overlay",
              "size": 10,
              "solidity": 0.2
             }
            },
            "type": "histogram"
           }
          ],
          "histogram2d": [
           {
            "colorbar": {
             "outlinewidth": 0,
             "ticks": ""
            },
            "colorscale": [
             [
              0,
              "#0d0887"
             ],
             [
              0.1111111111111111,
              "#46039f"
             ],
             [
              0.2222222222222222,
              "#7201a8"
             ],
             [
              0.3333333333333333,
              "#9c179e"
             ],
             [
              0.4444444444444444,
              "#bd3786"
             ],
             [
              0.5555555555555556,
              "#d8576b"
             ],
             [
              0.6666666666666666,
              "#ed7953"
             ],
             [
              0.7777777777777778,
              "#fb9f3a"
             ],
             [
              0.8888888888888888,
              "#fdca26"
             ],
             [
              1,
              "#f0f921"
             ]
            ],
            "type": "histogram2d"
           }
          ],
          "histogram2dcontour": [
           {
            "colorbar": {
             "outlinewidth": 0,
             "ticks": ""
            },
            "colorscale": [
             [
              0,
              "#0d0887"
             ],
             [
              0.1111111111111111,
              "#46039f"
             ],
             [
              0.2222222222222222,
              "#7201a8"
             ],
             [
              0.3333333333333333,
              "#9c179e"
             ],
             [
              0.4444444444444444,
              "#bd3786"
             ],
             [
              0.5555555555555556,
              "#d8576b"
             ],
             [
              0.6666666666666666,
              "#ed7953"
             ],
             [
              0.7777777777777778,
              "#fb9f3a"
             ],
             [
              0.8888888888888888,
              "#fdca26"
             ],
             [
              1,
              "#f0f921"
             ]
            ],
            "type": "histogram2dcontour"
           }
          ],
          "mesh3d": [
           {
            "colorbar": {
             "outlinewidth": 0,
             "ticks": ""
            },
            "type": "mesh3d"
           }
          ],
          "parcoords": [
           {
            "line": {
             "colorbar": {
              "outlinewidth": 0,
              "ticks": ""
             }
            },
            "type": "parcoords"
           }
          ],
          "pie": [
           {
            "automargin": true,
            "type": "pie"
           }
          ],
          "scatter": [
           {
            "marker": {
             "colorbar": {
              "outlinewidth": 0,
              "ticks": ""
             }
            },
            "type": "scatter"
           }
          ],
          "scatter3d": [
           {
            "line": {
             "colorbar": {
              "outlinewidth": 0,
              "ticks": ""
             }
            },
            "marker": {
             "colorbar": {
              "outlinewidth": 0,
              "ticks": ""
             }
            },
            "type": "scatter3d"
           }
          ],
          "scattercarpet": [
           {
            "marker": {
             "colorbar": {
              "outlinewidth": 0,
              "ticks": ""
             }
            },
            "type": "scattercarpet"
           }
          ],
          "scattergeo": [
           {
            "marker": {
             "colorbar": {
              "outlinewidth": 0,
              "ticks": ""
             }
            },
            "type": "scattergeo"
           }
          ],
          "scattergl": [
           {
            "marker": {
             "colorbar": {
              "outlinewidth": 0,
              "ticks": ""
             }
            },
            "type": "scattergl"
           }
          ],
          "scattermapbox": [
           {
            "marker": {
             "colorbar": {
              "outlinewidth": 0,
              "ticks": ""
             }
            },
            "type": "scattermapbox"
           }
          ],
          "scatterpolar": [
           {
            "marker": {
             "colorbar": {
              "outlinewidth": 0,
              "ticks": ""
             }
            },
            "type": "scatterpolar"
           }
          ],
          "scatterpolargl": [
           {
            "marker": {
             "colorbar": {
              "outlinewidth": 0,
              "ticks": ""
             }
            },
            "type": "scatterpolargl"
           }
          ],
          "scatterternary": [
           {
            "marker": {
             "colorbar": {
              "outlinewidth": 0,
              "ticks": ""
             }
            },
            "type": "scatterternary"
           }
          ],
          "surface": [
           {
            "colorbar": {
             "outlinewidth": 0,
             "ticks": ""
            },
            "colorscale": [
             [
              0,
              "#0d0887"
             ],
             [
              0.1111111111111111,
              "#46039f"
             ],
             [
              0.2222222222222222,
              "#7201a8"
             ],
             [
              0.3333333333333333,
              "#9c179e"
             ],
             [
              0.4444444444444444,
              "#bd3786"
             ],
             [
              0.5555555555555556,
              "#d8576b"
             ],
             [
              0.6666666666666666,
              "#ed7953"
             ],
             [
              0.7777777777777778,
              "#fb9f3a"
             ],
             [
              0.8888888888888888,
              "#fdca26"
             ],
             [
              1,
              "#f0f921"
             ]
            ],
            "type": "surface"
           }
          ],
          "table": [
           {
            "cells": {
             "fill": {
              "color": "#EBF0F8"
             },
             "line": {
              "color": "white"
             }
            },
            "header": {
             "fill": {
              "color": "#C8D4E3"
             },
             "line": {
              "color": "white"
             }
            },
            "type": "table"
           }
          ]
         },
         "layout": {
          "annotationdefaults": {
           "arrowcolor": "#2a3f5f",
           "arrowhead": 0,
           "arrowwidth": 1
          },
          "autotypenumbers": "strict",
          "coloraxis": {
           "colorbar": {
            "outlinewidth": 0,
            "ticks": ""
           }
          },
          "colorscale": {
           "diverging": [
            [
             0,
             "#8e0152"
            ],
            [
             0.1,
             "#c51b7d"
            ],
            [
             0.2,
             "#de77ae"
            ],
            [
             0.3,
             "#f1b6da"
            ],
            [
             0.4,
             "#fde0ef"
            ],
            [
             0.5,
             "#f7f7f7"
            ],
            [
             0.6,
             "#e6f5d0"
            ],
            [
             0.7,
             "#b8e186"
            ],
            [
             0.8,
             "#7fbc41"
            ],
            [
             0.9,
             "#4d9221"
            ],
            [
             1,
             "#276419"
            ]
           ],
           "sequential": [
            [
             0,
             "#0d0887"
            ],
            [
             0.1111111111111111,
             "#46039f"
            ],
            [
             0.2222222222222222,
             "#7201a8"
            ],
            [
             0.3333333333333333,
             "#9c179e"
            ],
            [
             0.4444444444444444,
             "#bd3786"
            ],
            [
             0.5555555555555556,
             "#d8576b"
            ],
            [
             0.6666666666666666,
             "#ed7953"
            ],
            [
             0.7777777777777778,
             "#fb9f3a"
            ],
            [
             0.8888888888888888,
             "#fdca26"
            ],
            [
             1,
             "#f0f921"
            ]
           ],
           "sequentialminus": [
            [
             0,
             "#0d0887"
            ],
            [
             0.1111111111111111,
             "#46039f"
            ],
            [
             0.2222222222222222,
             "#7201a8"
            ],
            [
             0.3333333333333333,
             "#9c179e"
            ],
            [
             0.4444444444444444,
             "#bd3786"
            ],
            [
             0.5555555555555556,
             "#d8576b"
            ],
            [
             0.6666666666666666,
             "#ed7953"
            ],
            [
             0.7777777777777778,
             "#fb9f3a"
            ],
            [
             0.8888888888888888,
             "#fdca26"
            ],
            [
             1,
             "#f0f921"
            ]
           ]
          },
          "colorway": [
           "#636efa",
           "#EF553B",
           "#00cc96",
           "#ab63fa",
           "#FFA15A",
           "#19d3f3",
           "#FF6692",
           "#B6E880",
           "#FF97FF",
           "#FECB52"
          ],
          "font": {
           "color": "#2a3f5f"
          },
          "geo": {
           "bgcolor": "white",
           "lakecolor": "white",
           "landcolor": "#E5ECF6",
           "showlakes": true,
           "showland": true,
           "subunitcolor": "white"
          },
          "hoverlabel": {
           "align": "left"
          },
          "hovermode": "closest",
          "mapbox": {
           "style": "light"
          },
          "paper_bgcolor": "white",
          "plot_bgcolor": "#E5ECF6",
          "polar": {
           "angularaxis": {
            "gridcolor": "white",
            "linecolor": "white",
            "ticks": ""
           },
           "bgcolor": "#E5ECF6",
           "radialaxis": {
            "gridcolor": "white",
            "linecolor": "white",
            "ticks": ""
           }
          },
          "scene": {
           "xaxis": {
            "backgroundcolor": "#E5ECF6",
            "gridcolor": "white",
            "gridwidth": 2,
            "linecolor": "white",
            "showbackground": true,
            "ticks": "",
            "zerolinecolor": "white"
           },
           "yaxis": {
            "backgroundcolor": "#E5ECF6",
            "gridcolor": "white",
            "gridwidth": 2,
            "linecolor": "white",
            "showbackground": true,
            "ticks": "",
            "zerolinecolor": "white"
           },
           "zaxis": {
            "backgroundcolor": "#E5ECF6",
            "gridcolor": "white",
            "gridwidth": 2,
            "linecolor": "white",
            "showbackground": true,
            "ticks": "",
            "zerolinecolor": "white"
           }
          },
          "shapedefaults": {
           "line": {
            "color": "#2a3f5f"
           }
          },
          "ternary": {
           "aaxis": {
            "gridcolor": "white",
            "linecolor": "white",
            "ticks": ""
           },
           "baxis": {
            "gridcolor": "white",
            "linecolor": "white",
            "ticks": ""
           },
           "bgcolor": "#E5ECF6",
           "caxis": {
            "gridcolor": "white",
            "linecolor": "white",
            "ticks": ""
           }
          },
          "title": {
           "x": 0.05
          },
          "xaxis": {
           "automargin": true,
           "gridcolor": "white",
           "linecolor": "white",
           "ticks": "",
           "title": {
            "standoff": 15
           },
           "zerolinecolor": "white",
           "zerolinewidth": 2
          },
          "yaxis": {
           "automargin": true,
           "gridcolor": "white",
           "linecolor": "white",
           "ticks": "",
           "title": {
            "standoff": 15
           },
           "zerolinecolor": "white",
           "zerolinewidth": 2
          }
         }
        },
        "xaxis": {
         "anchor": "y",
         "autorange": true,
         "domain": [
          0,
          1
         ],
         "range": [
          -0.5,
          23499.5
         ],
         "title": {
          "text": "num_words"
         },
         "type": "linear"
        },
        "yaxis": {
         "anchor": "x",
         "autorange": true,
         "domain": [
          0,
          1
         ],
         "range": [
          0,
          160
         ],
         "title": {
          "text": "count"
         }
        }
       }
      },
      "image/png": "[encoded data removed]",
      "text/html": [
       "<div>                            <div id=\"c70ac555-8299-4ed7-bdcd-3ec6407e4ad6\" class=\"plotly-graph-div\" style=\"height:525px; width:100%;\"></div>            <script type=\"text/javascript\">                require([\"plotly\"], function(Plotly) {                    window.PLOTLYENV=window.PLOTLYENV || {};                                    if (document.getElementById(\"c70ac555-8299-4ed7-bdcd-3ec6407e4ad6\")) {                    Plotly.newPlot(                        \"c70ac555-8299-4ed7-bdcd-3ec6407e4ad6\",                        [{\"alignmentgroup\":\"True\",\"bingroup\":\"x\",\"hovertemplate\":\"author_name=Justice Ginsburg<br>num_words=%{x}<br>count=%{y}<extra></extra>\",\"legendgroup\":\"Justice Ginsburg\",\"marker\":{\"color\":\"#636efa\",\"pattern\":{\"shape\":\"\"}},\"name\":\"Justice Ginsburg\",\"offsetgroup\":\"Justice Ginsburg\",\"orientation\":\"v\",\"showlegend\":true,\"x\":[2527,5415,6119,1549,5143,8861,2553,3193,594,4200,2442,711,2527,4709,2724,4850,1442,4887,4307,6255,3952,10415,56,4159,12621,13175,3048,4911,1059,9735,3356,2655,4504,3830,136,5439,4698,3255,5426,2569,1517,7533,1173,3514,7150,4764,4736,1348,3125,2607,3184,1059,286,4581,5305,229,2626,3050,2445,3394,17309,905,1686,4469,8308,3162,4665,5457,3534,430,5743,99,4774,2046,816,5753,2662,499,5262,5115,2783,2907,2892,4202,13175,4711,5240,14264,6896,494,262,3406,470,3483,3768,2729,4816,13175,4611,3378,1522,5124,4200,2971,234,2638,6556,3893,1668,11523,1578,6622,3202,3967,4516,1779,3998,5022,4497,9505,3340,9359,2914,5070,3410,2728,411,3391,3997,181,3871,3118,3747,2009,2356,11310,6569,3531,3953,2992,259,238,4691,1626,588,4445,98,3471,4791,17092,4275,3979,3382,192,2284,3685,1469,2029,10026,3746,3591,9217,425,7242,3487,162,6808,3194,5646,1626,3397,2105,6071,4200,3526,226,1345,4509,6570,11522,2023,5448,4898,11046,1098,6550,4659,3459,4659,5238,2547,600,411,2045,271,3163,2945,3211,5525,4708,6011,1909,10415,3483,1099,286,877,3166,5147,5611,3688,4019,188,273,2041,4775,1973,4844,40,936,221,2644,10862,1583,3894,10913,2921,7550,2852,3630,1858,522,2812,5799,3604,159,3732,5411,3177,4381,2615,3853,6164,8522,2989,2072,2195,4350,9969,828,134,2281,4433,8252,2639,283,9738,138,3223,346,1410,4855,470,292,9741,3812,5547,3021,13022,260,4424,1143,534,698,176,2911,134,2242,12444,6919,5304,8062,411,3058,5607,6615,3066,437,2527,5649,4431,357,2806,2679,4706,6152,2316,4377,3389,4481,1486,1189,1453,2533,3235,72,3912,10557,1086,4081,6267,4363,4108,633,5376,339,2864,6888,3846,9475,1699,286,282,2653,1836,2585,6152,3926,2423,376,6202,4394,94,2798,148,4203,5530,470,6111,10274,5419,1811,427,1575,1322,2496,7533,4068,141,5235,5635,2673,7568,3708,4494,2052,3023,4807,2994,651,3611,4118,3286,2204,539,618,9259,2941,1793,4439,453,198,4031,127,6114,3006,1096,3209,60,4085,3263,54,11055,5366,2527,288,3507,3861,7818,2611,168,4466,2579,4976,3290,4357,1111,4508,5511,4783,4291,4125,7385,1002,105,3072,5870],\"xaxis\":\"x\",\"yaxis\":\"y\",\"type\":\"histogram\"},{\"alignmentgroup\":\"True\",\"bingroup\":\"x\",\"hovertemplate\":\"author_name=Justice Scalia<br>num_words=%{x}<br>count=%{y}<extra></extra>\",\"legendgroup\":\"Justice Scalia\",\"marker\":{\"color\":\"#EF553B\",\"pattern\":{\"shape\":\"\"}},\"name\":\"Justice Scalia\",\"offsetgroup\":\"Justice Scalia\",\"orientation\":\"v\",\"showlegend\":true,\"x\":[1854,3634,2134,3230,573,2583,3261,68,1590,1874,813,4323,711,9450,161,2035,2172,2990,195,3609,2003,6612,903,12290,301,4772,2609,4157,2474,4661,6595,1015,1219,157,2521,98,137,5558,992,4542,1194,5377,829,292,2526,2576,10294,4486,750,11852,2897,117,8648,2597,2695,394,1277,3672,1990,6793,5902,4311,5195,4289,5602,347,2705,1077,2416,2111,1888,2629,3147,3522,2242,5003,883,12289,1629,4910,4506,4519,5690,6641,18069,2706,2364,5691,1477,3673,282,3409,226,5508,1881,1742,443,1411,1827,1485,2344,2402,2333,2815,2306,98,5453,864,193,321,5598,799,579,2298,2888,2752,8359,185,4153,6832,41,3632,1869,2112,744,3650,3255,4837,3347,69,3391,1133,3644,3797,2898,496,1438,3620,7977,7153,2817,2127,4118,1581,2172,2108,3287,728,5683,2615,1933,4574,4478,3116,401,1390,4118,2905,4213,3910,2903,2747,2094,334,4229,4472,3712,4463,12081,2973,4731,188,2752,6527,2546,2323,2212,4901,2874,1836,3251,3059,374,3724,1178,2970,212,3164,6425,2101,1559,45,5459,5627,857,5840,630,3242,2420,2764,3460,7662,4867,2247,3242,365,8712,371,2326,88,987,5963,2034,1058,2950,2857,437,3742,8659,1625,335,4975,6181,2055,1578,4156,2297,2974,7115,3582,4006,1363,4644,7322,12290,349,7432,222,1000,3425,159,3528,289,1530,18063,3916,2468,2760,4616,136,1778,3045,3261,4196,10846,1297,80,3543,1877,2979,2079,2042,5084,107,316,6043,9038,3447,3550,4868,4275,220,257,3108,4290,6493,454,20073,5014,2547,4312,8283,2902,5131,1636,3207,4393,741,3110,1148,1080,182,2508,3855,10227,4012,2291,2905,201,3564,2247,2978,2174,318,2455,3262,5162,3078,2953,3489,9721,457,424,270,1697,3089,4688,5570,3628,5811,4326,4398,3134,1346,3097,16659,817,4181,6876,2646,1854,9953,460,5945,5298,2991,3564,230,6601,1517,250,2252,1921,900,2707,5269,2100,1888,665,1301,1726,8470,794,2902,5612,2880,3750,14085,1497,4298,3084,8283,1572,4293,4753,3120,7229,3886,4890,6287,1381,1105,3271,1047,6062,732,2318,272,7919,5003,4506,988,2269,2172,2353,4766,1428,23488,3577,4644,1900,9761,4489,4309,3177,2261,2894,5334,1057,705,4270,3390,4694,3642,5034,1597,3456,3675,51,6698,4388,2919,7258,1121,1122,334,15759,8283,3348,2462,7681,5003,175,4935,6108,6004,2935,388,2661,501,1546,4280,3704,1413,1111,6191,621,3164,7233,4949,1214,1446,6166,6108,2257,2616,1620,3644,1741,6668,4046,1788,281,576,6577,3741,2040,1990,608,720,5009,2561,1169,2198,274,3977,4824,2641,3348,7405,96,5000,3208,2101,1131,7798,1446,128,3123,1181,3380,4870,1560,3626,6186,1037,5205,1938,3372,3408,5432,684,890,7171,3289,17712,5391,731,11223,7150,3552,422,3822,4298,2605,2757,4875,4287,6232,5476,2065,357,1404,190,6014,4333,161,8281,5841,1656,2187,4079,418,2082,2994,781,3943,3669,1052,684,4497,14082,3495,2094,4804,116,5589,1933,205,5349,7388,4165,2279,415,4399,9649,3950,2697,3834,8126,2157,3419,2832,3290,1099,3703,3882,6007,1926,1981,4375,3121,1229,3510,2251,1663,2543,3328,4622,2724,1632,3260,4627,499,2215,256,410,4399,2419,2224,5954,1995,2069,3621,5172,54,1330,2416,158,1598,3751,3942,824,4875,2315,91,2034,4033,318,1540,214,1284,2434,2931,2313,5269,4627,2793,2654,347,4949,2751,5911,6957,720,1441,2410,4408,4265,2750,2058,2623,4725,640,4644,2213,30,3644,3095,1074,2769,2567,7143,55,725,5691,5218,4604,9128,1915,273,2958,1370,3412,235,6412,298,196,1771,201,1858,2748,861,2902,679,2624,4156,4635,2279,3444,3210,3793,466,4891,4354,2520,4877,390,327,2820,8016,4466,390,6109,3051,3581,721,170,1648,1338,5870,98,1226,2541,103,2210,6214,771,1990,568,2833,4112,2002,1348,2379,2471,3268,3289,6522,2674,316,2261,3652,1428,1258,2584,98,3090,3416,5449,3359,1794,4497,5615,524,699,2005,2120],\"xaxis\":\"x\",\"yaxis\":\"y\",\"type\":\"histogram\"}],                        {\"template\":{\"data\":{\"bar\":[{\"error_x\":{\"color\":\"#2a3f5f\"},\"error_y\":{\"color\":\"#2a3f5f\"},\"marker\":{\"line\":{\"color\":\"#E5ECF6\",\"width\":0.5},\"pattern\":{\"fillmode\":\"overlay\",\"size\":10,\"solidity\":0.2}},\"type\":\"bar\"}],\"barpolar\":[{\"marker\":{\"line\":{\"color\":\"#E5ECF6\",\"width\":0.5},\"pattern\":{\"fillmode\":\"overlay\",\"size\":10,\"solidity\":0.2}},\"type\":\"barpolar\"}],\"carpet\":[{\"aaxis\":{\"endlinecolor\":\"#2a3f5f\",\"gridcolor\":\"white\",\"linecolor\":\"white\",\"minorgridcolor\":\"white\",\"startlinecolor\":\"#2a3f5f\"},\"baxis\":{\"endlinecolor\":\"#2a3f5f\",\"gridcolor\":\"white\",\"linecolor\":\"white\",\"minorgridcolor\":\"white\",\"startlinecolor\":\"#2a3f5f\"},\"type\":\"carpet\"}],\"choropleth\":[{\"colorbar\":{\"outlinewidth\":0,\"ticks\":\"\"},\"type\":\"choropleth\"}],\"contour\":[{\"colorbar\":{\"outlinewidth\":0,\"ticks\":\"\"},\"colorscale\":[[0.0,\"#0d0887\"],[0.1111111111111111,\"#46039f\"],[0.2222222222222222,\"#7201a8\"],[0.3333333333333333,\"#9c179e\"],[0.4444444444444444,\"#bd3786\"],[0.5555555555555556,\"#d8576b\"],[0.6666666666666666,\"#ed7953\"],[0.7777777777777778,\"#fb9f3a\"],[0.8888888888888888,\"#fdca26\"],[1.0,\"#f0f921\"]],\"type\":\"contour\"}],\"contourcarpet\":[{\"colorbar\":{\"outlinewidth\":0,\"ticks\":\"\"},\"type\":\"contourcarpet\"}],\"heatmap\":[{\"colorbar\":{\"outlinewidth\":0,\"ticks\":\"\"},\"colorscale\":[[0.0,\"#0d0887\"],[0.1111111111111111,\"#46039f\"],[0.2222222222222222,\"#7201a8\"],[0.3333333333333333,\"#9c179e\"],[0.4444444444444444,\"#bd3786\"],[0.5555555555555556,\"#d8576b\"],[0.6666666666666666,\"#ed7953\"],[0.7777777777777778,\"#fb9f3a\"],[0.8888888888888888,\"#fdca26\"],[1.0,\"#f0f921\"]],\"type\":\"heatmap\"}],\"heatmapgl\":[{\"colorbar\":{\"outlinewidth\":0,\"ticks\":\"\"},\"colorscale\":[[0.0,\"#0d0887\"],[0.1111111111111111,\"#46039f\"],[0.2222222222222222,\"#7201a8\"],[0.3333333333333333,\"#9c179e\"],[0.4444444444444444,\"#bd3786\"],[0.5555555555555556,\"#d8576b\"],[0.6666666666666666,\"#ed7953\"],[0.7777777777777778,\"#fb9f3a\"],[0.8888888888888888,\"#fdca26\"],[1.0,\"#f0f921\"]],\"type\":\"heatmapgl\"}],\"histogram\":[{\"marker\":{\"pattern\":{\"fillmode\":\"overlay\",\"size\":10,\"solidity\":0.2}},\"type\":\"histogram\"}],\"histogram2d\":[{\"colorbar\":{\"outlinewidth\":0,\"ticks\":\"\"},\"colorscale\":[[0.0,\"#0d0887\"],[0.1111111111111111,\"#46039f\"],[0.2222222222222222,\"#7201a8\"],[0.3333333333333333,\"#9c179e\"],[0.4444444444444444,\"#bd3786\"],[0.5555555555555556,\"#d8576b\"],[0.6666666666666666,\"#ed7953\"],[0.7777777777777778,\"#fb9f3a\"],[0.8888888888888888,\"#fdca26\"],[1.0,\"#f0f921\"]],\"type\":\"histogram2d\"}],\"histogram2dcontour\":[{\"colorbar\":{\"outlinewidth\":0,\"ticks\":\"\"},\"colorscale\":[[0.0,\"#0d0887\"],[0.1111111111111111,\"#46039f\"],[0.2222222222222222,\"#7201a8\"],[0.3333333333333333,\"#9c179e\"],[0.4444444444444444,\"#bd3786\"],[0.5555555555555556,\"#d8576b\"],[0.6666666666666666,\"#ed7953\"],[0.7777777777777778,\"#fb9f3a\"],[0.8888888888888888,\"#fdca26\"],[1.0,\"#f0f921\"]],\"type\":\"histogram2dcontour\"}],\"mesh3d\":[{\"colorbar\":{\"outlinewidth\":0,\"ticks\":\"\"},\"type\":\"mesh3d\"}],\"parcoords\":[{\"line\":{\"colorbar\":{\"outlinewidth\":0,\"ticks\":\"\"}},\"type\":\"parcoords\"}],\"pie\":[{\"automargin\":true,\"type\":\"pie\"}],\"scatter\":[{\"marker\":{\"colorbar\":{\"outlinewidth\":0,\"ticks\":\"\"}},\"type\":\"scatter\"}],\"scatter3d\":[{\"line\":{\"colorbar\":{\"outlinewidth\":0,\"ticks\":\"\"}},\"marker\":{\"colorbar\":{\"outlinewidth\":0,\"ticks\":\"\"}},\"type\":\"scatter3d\"}],\"scattercarpet\":[{\"marker\":{\"colorbar\":{\"outlinewidth\":0,\"ticks\":\"\"}},\"type\":\"scattercarpet\"}],\"scattergeo\":[{\"marker\":{\"colorbar\":{\"outlinewidth\":0,\"ticks\":\"\"}},\"type\":\"scattergeo\"}],\"scattergl\":[{\"marker\":{\"colorbar\":{\"outlinewidth\":0,\"ticks\":\"\"}},\"type\":\"scattergl\"}],\"scattermapbox\":[{\"marker\":{\"colorbar\":{\"outlinewidth\":0,\"ticks\":\"\"}},\"type\":\"scattermapbox\"}],\"scatterpolar\":[{\"marker\":{\"colorbar\":{\"outlinewidth\":0,\"ticks\":\"\"}},\"type\":\"scatterpolar\"}],\"scatterpolargl\":[{\"marker\":{\"colorbar\":{\"outlinewidth\":0,\"ticks\":\"\"}},\"type\":\"scatterpolargl\"}],\"scatterternary\":[{\"marker\":{\"colorbar\":{\"outlinewidth\":0,\"ticks\":\"\"}},\"type\":\"scatterternary\"}],\"surface\":[{\"colorbar\":{\"outlinewidth\":0,\"ticks\":\"\"},\"colorscale\":[[0.0,\"#0d0887\"],[0.1111111111111111,\"#46039f\"],[0.2222222222222222,\"#7201a8\"],[0.3333333333333333,\"#9c179e\"],[0.4444444444444444,\"#bd3786\"],[0.5555555555555556,\"#d8576b\"],[0.6666666666666666,\"#ed7953\"],[0.7777777777777778,\"#fb9f3a\"],[0.8888888888888888,\"#fdca26\"],[1.0,\"#f0f921\"]],\"type\":\"surface\"}],\"table\":[{\"cells\":{\"fill\":{\"color\":\"#EBF0F8\"},\"line\":{\"color\":\"white\"}},\"header\":{\"fill\":{\"color\":\"#C8D4E3\"},\"line\":{\"color\":\"white\"}},\"type\":\"table\"}]},\"layout\":{\"annotationdefaults\":{\"arrowcolor\":\"#2a3f5f\",\"arrowhead\":0,\"arrowwidth\":1},\"autotypenumbers\":\"strict\",\"coloraxis\":{\"colorbar\":{\"outlinewidth\":0,\"ticks\":\"\"}},\"colorscale\":{\"diverging\":[[0,\"#8e0152\"],[0.1,\"#c51b7d\"],[0.2,\"#de77ae\"],[0.3,\"#f1b6da\"],[0.4,\"#fde0ef\"],[0.5,\"#f7f7f7\"],[0.6,\"#e6f5d0\"],[0.7,\"#b8e186\"],[0.8,\"#7fbc41\"],[0.9,\"#4d9221\"],[1,\"#276419\"]],\"sequential\":[[0.0,\"#0d0887\"],[0.1111111111111111,\"#46039f\"],[0.2222222222222222,\"#7201a8\"],[0.3333333333333333,\"#9c179e\"],[0.4444444444444444,\"#bd3786\"],[0.5555555555555556,\"#d8576b\"],[0.6666666666666666,\"#ed7953\"],[0.7777777777777778,\"#fb9f3a\"],[0.8888888888888888,\"#fdca26\"],[1.0,\"#f0f921\"]],\"sequentialminus\":[[0.0,\"#0d0887\"],[0.1111111111111111,\"#46039f\"],[0.2222222222222222,\"#7201a8\"],[0.3333333333333333,\"#9c179e\"],[0.4444444444444444,\"#bd3786\"],[0.5555555555555556,\"#d8576b\"],[0.6666666666666666,\"#ed7953\"],[0.7777777777777778,\"#fb9f3a\"],[0.8888888888888888,\"#fdca26\"],[1.0,\"#f0f921\"]]},\"colorway\":[\"#636efa\",\"#EF553B\",\"#00cc96\",\"#ab63fa\",\"#FFA15A\",\"#19d3f3\",\"#FF6692\",\"#B6E880\",\"#FF97FF\",\"#FECB52\"],\"font\":{\"color\":\"#2a3f5f\"},\"geo\":{\"bgcolor\":\"white\",\"lakecolor\":\"white\",\"landcolor\":\"#E5ECF6\",\"showlakes\":true,\"showland\":true,\"subunitcolor\":\"white\"},\"hoverlabel\":{\"align\":\"left\"},\"hovermode\":\"closest\",\"mapbox\":{\"style\":\"light\"},\"paper_bgcolor\":\"white\",\"plot_bgcolor\":\"#E5ECF6\",\"polar\":{\"angularaxis\":{\"gridcolor\":\"white\",\"linecolor\":\"white\",\"ticks\":\"\"},\"bgcolor\":\"#E5ECF6\",\"radialaxis\":{\"gridcolor\":\"white\",\"linecolor\":\"white\",\"ticks\":\"\"}},\"scene\":{\"xaxis\":{\"backgroundcolor\":\"#E5ECF6\",\"gridcolor\":\"white\",\"gridwidth\":2,\"linecolor\":\"white\",\"showbackground\":true,\"ticks\":\"\",\"zerolinecolor\":\"white\"},\"yaxis\":{\"backgroundcolor\":\"#E5ECF6\",\"gridcolor\":\"white\",\"gridwidth\":2,\"linecolor\":\"white\",\"showbackground\":true,\"ticks\":\"\",\"zerolinecolor\":\"white\"},\"zaxis\":{\"backgroundcolor\":\"#E5ECF6\",\"gridcolor\":\"white\",\"gridwidth\":2,\"linecolor\":\"white\",\"showbackground\":true,\"ticks\":\"\",\"zerolinecolor\":\"white\"}},\"shapedefaults\":{\"line\":{\"color\":\"#2a3f5f\"}},\"ternary\":{\"aaxis\":{\"gridcolor\":\"white\",\"linecolor\":\"white\",\"ticks\":\"\"},\"baxis\":{\"gridcolor\":\"white\",\"linecolor\":\"white\",\"ticks\":\"\"},\"bgcolor\":\"#E5ECF6\",\"caxis\":{\"gridcolor\":\"white\",\"linecolor\":\"white\",\"ticks\":\"\"}},\"title\":{\"x\":0.05},\"xaxis\":{\"automargin\":true,\"gridcolor\":\"white\",\"linecolor\":\"white\",\"ticks\":\"\",\"title\":{\"standoff\":15},\"zerolinecolor\":\"white\",\"zerolinewidth\":2},\"yaxis\":{\"automargin\":true,\"gridcolor\":\"white\",\"linecolor\":\"white\",\"ticks\":\"\",\"title\":{\"standoff\":15},\"zerolinecolor\":\"white\",\"zerolinewidth\":2}}},\"xaxis\":{\"anchor\":\"y\",\"domain\":[0.0,1.0],\"title\":{\"text\":\"num_words\"}},\"yaxis\":{\"anchor\":\"x\",\"domain\":[0.0,1.0],\"title\":{\"text\":\"count\"}},\"legend\":{\"title\":{\"text\":\"author_name\"},\"tracegroupgap\":0},\"margin\":{\"t\":60},\"barmode\":\"relative\"},                        {\"responsive\": true}                    ).then(function(){\n",
       "                            \n",
       "var gd = document.getElementById('c70ac555-8299-4ed7-bdcd-3ec6407e4ad6');\n",
       "var x = new MutationObserver(function (mutations, observer) {{\n",
       "        var display = window.getComputedStyle(gd).display;\n",
       "        if (!display || display === 'none') {{\n",
       "            console.log([gd, 'removed!']);\n",
       "            Plotly.purge(gd);\n",
       "            observer.disconnect();\n",
       "        }}\n",
       "}});\n",
       "\n",
       "// Listen for the removal of the full notebook cells\n",
       "var notebookContainer = gd.closest('#notebook-container');\n",
       "if (notebookContainer) {{\n",
       "    x.observe(notebookContainer, {childList: true});\n",
       "}}\n",
       "\n",
       "// Listen for the clearing of the current output cell\n",
       "var outputEl = gd.closest('.output');\n",
       "if (outputEl) {{\n",
       "    x.observe(outputEl, {childList: true});\n",
       "}}\n",
       "\n",
       "                        })                };                });            </script>        </div>"
      ]
     },
     "metadata": {},
     "output_type": "display_data"
    }
   ],
   "source": [
    "px.histogram(rbg_scalia, \"num_words\", color = \"author_name\")"
   ]
  },
  {
   "cell_type": "code",
   "execution_count": 21,
   "metadata": {},
   "outputs": [
    {
     "data": {
      "image/png": "[encoded data removed]",
      "text/plain": [
       "<Figure size 432x288 with 1 Axes>"
      ]
     },
     "metadata": {
      "needs_background": "light"
     },
     "output_type": "display_data"
    }
   ],
   "source": [
    "rbg_scalia[\"author\"] = rbg_scalia.author_name.apply(lambda x: x == \"Justice Ginsburg\")\n",
    "rbg_scalia.author_name.value_counts().plot.barh()\n",
    "plt.title(\"Author distributions\")\n",
    "plt.show()\n",
    "#RBG wrote half as many opinions as scalia, which translates to a "
   ]
  },
  {
   "cell_type": "code",
   "execution_count": 45,
   "metadata": {},
   "outputs": [
    {
     "data": {
      "application/vnd.plotly.v1+json": {
       "config": {
        "plotlyServerURL": "https://plot.ly"
       },
       "data": [
        {
         "alignmentgroup": "True",
         "hovertemplate": "author_name=Justice Scalia<br>year_filed=%{x}<br>num_opinions=%{y}<extra></extra>",
         "legendgroup": "Justice Scalia",
         "marker": {
          "color": "#636efa",
          "pattern": {
           "shape": ""
          }
         },
         "name": "Justice Scalia",
         "offsetgroup": "Justice Scalia",
         "orientation": "v",
         "showlegend": true,
         "textposition": "auto",
         "type": "bar",
         "x": [
          1986,
          1987,
          1988,
          1989,
          1990,
          1991,
          1992,
          1993,
          1994,
          1995,
          1996,
          1997,
          1998,
          1999,
          2000,
          2001,
          2002,
          2003,
          2004,
          2005,
          2006,
          2007,
          2008,
          2009,
          2010,
          2011,
          2012,
          2013,
          2014,
          2015,
          2016
         ],
         "xaxis": "x",
         "y": [
          2,
          30,
          32,
          33,
          34,
          38,
          31,
          24,
          23,
          19,
          22,
          24,
          28,
          14,
          22,
          26,
          23,
          27,
          27,
          18,
          18,
          20,
          17,
          16,
          21,
          34,
          19,
          24,
          19,
          26,
          7
         ],
         "yaxis": "y"
        },
        {
         "alignmentgroup": "True",
         "hovertemplate": "author_name=Justice Ginsburg<br>year_filed=%{x}<br>num_opinions=%{y}<extra></extra>",
         "legendgroup": "Justice Ginsburg",
         "marker": {
          "color": "#EF553B",
          "pattern": {
           "shape": ""
          }
         },
         "name": "Justice Ginsburg",
         "offsetgroup": "Justice Ginsburg",
         "orientation": "v",
         "showlegend": true,
         "textposition": "auto",
         "type": "bar",
         "x": [
          1993,
          1994,
          1995,
          1996,
          1997,
          1998,
          1999,
          2000,
          2001,
          2002,
          2003,
          2004,
          2005,
          2006,
          2007,
          2008,
          2009,
          2010,
          2011,
          2012,
          2013,
          2014,
          2015,
          2016,
          2017,
          2018,
          2019,
          2020
         ],
         "xaxis": "x",
         "y": [
          1,
          17,
          20,
          14,
          15,
          14,
          15,
          17,
          17,
          12,
          17,
          18,
          18,
          11,
          13,
          12,
          14,
          14,
          19,
          17,
          17,
          15,
          12,
          20,
          11,
          15,
          10,
          12
         ],
         "yaxis": "y"
        }
       ],
       "layout": {
        "autosize": true,
        "barmode": "relative",
        "legend": {
         "title": {
          "text": "author_name"
         },
         "tracegroupgap": 0
        },
        "margin": {
         "t": 60
        },
        "template": {
         "data": {
          "bar": [
           {
            "error_x": {
             "color": "#2a3f5f"
            },
            "error_y": {
             "color": "#2a3f5f"
            },
            "marker": {
             "line": {
              "color": "#E5ECF6",
              "width": 0.5
             },
             "pattern": {
              "fillmode": "overlay",
              "size": 10,
              "solidity": 0.2
             }
            },
            "type": "bar"
           }
          ],
          "barpolar": [
           {
            "marker": {
             "line": {
              "color": "#E5ECF6",
              "width": 0.5
             },
             "pattern": {
              "fillmode": "overlay",
              "size": 10,
              "solidity": 0.2
             }
            },
            "type": "barpolar"
           }
          ],
          "carpet": [
           {
            "aaxis": {
             "endlinecolor": "#2a3f5f",
             "gridcolor": "white",
             "linecolor": "white",
             "minorgridcolor": "white",
             "startlinecolor": "#2a3f5f"
            },
            "baxis": {
             "endlinecolor": "#2a3f5f",
             "gridcolor": "white",
             "linecolor": "white",
             "minorgridcolor": "white",
             "startlinecolor": "#2a3f5f"
            },
            "type": "carpet"
           }
          ],
          "choropleth": [
           {
            "colorbar": {
             "outlinewidth": 0,
             "ticks": ""
            },
            "type": "choropleth"
           }
          ],
          "contour": [
           {
            "colorbar": {
             "outlinewidth": 0,
             "ticks": ""
            },
            "colorscale": [
             [
              0,
              "#0d0887"
             ],
             [
              0.1111111111111111,
              "#46039f"
             ],
             [
              0.2222222222222222,
              "#7201a8"
             ],
             [
              0.3333333333333333,
              "#9c179e"
             ],
             [
              0.4444444444444444,
              "#bd3786"
             ],
             [
              0.5555555555555556,
              "#d8576b"
             ],
             [
              0.6666666666666666,
              "#ed7953"
             ],
             [
              0.7777777777777778,
              "#fb9f3a"
             ],
             [
              0.8888888888888888,
              "#fdca26"
             ],
             [
              1,
              "#f0f921"
             ]
            ],
            "type": "contour"
           }
          ],
          "contourcarpet": [
           {
            "colorbar": {
             "outlinewidth": 0,
             "ticks": ""
            },
            "type": "contourcarpet"
           }
          ],
          "heatmap": [
           {
            "colorbar": {
             "outlinewidth": 0,
             "ticks": ""
            },
            "colorscale": [
             [
              0,
              "#0d0887"
             ],
             [
              0.1111111111111111,
              "#46039f"
             ],
             [
              0.2222222222222222,
              "#7201a8"
             ],
             [
              0.3333333333333333,
              "#9c179e"
             ],
             [
              0.4444444444444444,
              "#bd3786"
             ],
             [
              0.5555555555555556,
              "#d8576b"
             ],
             [
              0.6666666666666666,
              "#ed7953"
             ],
             [
              0.7777777777777778,
              "#fb9f3a"
             ],
             [
              0.8888888888888888,
              "#fdca26"
             ],
             [
              1,
              "#f0f921"
             ]
            ],
            "type": "heatmap"
           }
          ],
          "heatmapgl": [
           {
            "colorbar": {
             "outlinewidth": 0,
             "ticks": ""
            },
            "colorscale": [
             [
              0,
              "#0d0887"
             ],
             [
              0.1111111111111111,
              "#46039f"
             ],
             [
              0.2222222222222222,
              "#7201a8"
             ],
             [
              0.3333333333333333,
              "#9c179e"
             ],
             [
              0.4444444444444444,
              "#bd3786"
             ],
             [
              0.5555555555555556,
              "#d8576b"
             ],
             [
              0.6666666666666666,
              "#ed7953"
             ],
             [
              0.7777777777777778,
              "#fb9f3a"
             ],
             [
              0.8888888888888888,
              "#fdca26"
             ],
             [
              1,
              "#f0f921"
             ]
            ],
            "type": "heatmapgl"
           }
          ],
          "histogram": [
           {
            "marker": {
             "pattern": {
              "fillmode": "overlay",
              "size": 10,
              "solidity": 0.2
             }
            },
            "type": "histogram"
           }
          ],
          "histogram2d": [
           {
            "colorbar": {
             "outlinewidth": 0,
             "ticks": ""
            },
            "colorscale": [
             [
              0,
              "#0d0887"
             ],
             [
              0.1111111111111111,
              "#46039f"
             ],
             [
              0.2222222222222222,
              "#7201a8"
             ],
             [
              0.3333333333333333,
              "#9c179e"
             ],
             [
              0.4444444444444444,
              "#bd3786"
             ],
             [
              0.5555555555555556,
              "#d8576b"
             ],
             [
              0.6666666666666666,
              "#ed7953"
             ],
             [
              0.7777777777777778,
              "#fb9f3a"
             ],
             [
              0.8888888888888888,
              "#fdca26"
             ],
             [
              1,
              "#f0f921"
             ]
            ],
            "type": "histogram2d"
           }
          ],
          "histogram2dcontour": [
           {
            "colorbar": {
             "outlinewidth": 0,
             "ticks": ""
            },
            "colorscale": [
             [
              0,
              "#0d0887"
             ],
             [
              0.1111111111111111,
              "#46039f"
             ],
             [
              0.2222222222222222,
              "#7201a8"
             ],
             [
              0.3333333333333333,
              "#9c179e"
             ],
             [
              0.4444444444444444,
              "#bd3786"
             ],
             [
              0.5555555555555556,
              "#d8576b"
             ],
             [
              0.6666666666666666,
              "#ed7953"
             ],
             [
              0.7777777777777778,
              "#fb9f3a"
             ],
             [
              0.8888888888888888,
              "#fdca26"
             ],
             [
              1,
              "#f0f921"
             ]
            ],
            "type": "histogram2dcontour"
           }
          ],
          "mesh3d": [
           {
            "colorbar": {
             "outlinewidth": 0,
             "ticks": ""
            },
            "type": "mesh3d"
           }
          ],
          "parcoords": [
           {
            "line": {
             "colorbar": {
              "outlinewidth": 0,
              "ticks": ""
             }
            },
            "type": "parcoords"
           }
          ],
          "pie": [
           {
            "automargin": true,
            "type": "pie"
           }
          ],
          "scatter": [
           {
            "marker": {
             "colorbar": {
              "outlinewidth": 0,
              "ticks": ""
             }
            },
            "type": "scatter"
           }
          ],
          "scatter3d": [
           {
            "line": {
             "colorbar": {
              "outlinewidth": 0,
              "ticks": ""
             }
            },
            "marker": {
             "colorbar": {
              "outlinewidth": 0,
              "ticks": ""
             }
            },
            "type": "scatter3d"
           }
          ],
          "scattercarpet": [
           {
            "marker": {
             "colorbar": {
              "outlinewidth": 0,
              "ticks": ""
             }
            },
            "type": "scattercarpet"
           }
          ],
          "scattergeo": [
           {
            "marker": {
             "colorbar": {
              "outlinewidth": 0,
              "ticks": ""
             }
            },
            "type": "scattergeo"
           }
          ],
          "scattergl": [
           {
            "marker": {
             "colorbar": {
              "outlinewidth": 0,
              "ticks": ""
             }
            },
            "type": "scattergl"
           }
          ],
          "scattermapbox": [
           {
            "marker": {
             "colorbar": {
              "outlinewidth": 0,
              "ticks": ""
             }
            },
            "type": "scattermapbox"
           }
          ],
          "scatterpolar": [
           {
            "marker": {
             "colorbar": {
              "outlinewidth": 0,
              "ticks": ""
             }
            },
            "type": "scatterpolar"
           }
          ],
          "scatterpolargl": [
           {
            "marker": {
             "colorbar": {
              "outlinewidth": 0,
              "ticks": ""
             }
            },
            "type": "scatterpolargl"
           }
          ],
          "scatterternary": [
           {
            "marker": {
             "colorbar": {
              "outlinewidth": 0,
              "ticks": ""
             }
            },
            "type": "scatterternary"
           }
          ],
          "surface": [
           {
            "colorbar": {
             "outlinewidth": 0,
             "ticks": ""
            },
            "colorscale": [
             [
              0,
              "#0d0887"
             ],
             [
              0.1111111111111111,
              "#46039f"
             ],
             [
              0.2222222222222222,
              "#7201a8"
             ],
             [
              0.3333333333333333,
              "#9c179e"
             ],
             [
              0.4444444444444444,
              "#bd3786"
             ],
             [
              0.5555555555555556,
              "#d8576b"
             ],
             [
              0.6666666666666666,
              "#ed7953"
             ],
             [
              0.7777777777777778,
              "#fb9f3a"
             ],
             [
              0.8888888888888888,
              "#fdca26"
             ],
             [
              1,
              "#f0f921"
             ]
            ],
            "type": "surface"
           }
          ],
          "table": [
           {
            "cells": {
             "fill": {
              "color": "#EBF0F8"
             },
             "line": {
              "color": "white"
             }
            },
            "header": {
             "fill": {
              "color": "#C8D4E3"
             },
             "line": {
              "color": "white"
             }
            },
            "type": "table"
           }
          ]
         },
         "layout": {
          "annotationdefaults": {
           "arrowcolor": "#2a3f5f",
           "arrowhead": 0,
           "arrowwidth": 1
          },
          "autotypenumbers": "strict",
          "coloraxis": {
           "colorbar": {
            "outlinewidth": 0,
            "ticks": ""
           }
          },
          "colorscale": {
           "diverging": [
            [
             0,
             "#8e0152"
            ],
            [
             0.1,
             "#c51b7d"
            ],
            [
             0.2,
             "#de77ae"
            ],
            [
             0.3,
             "#f1b6da"
            ],
            [
             0.4,
             "#fde0ef"
            ],
            [
             0.5,
             "#f7f7f7"
            ],
            [
             0.6,
             "#e6f5d0"
            ],
            [
             0.7,
             "#b8e186"
            ],
            [
             0.8,
             "#7fbc41"
            ],
            [
             0.9,
             "#4d9221"
            ],
            [
             1,
             "#276419"
            ]
           ],
           "sequential": [
            [
             0,
             "#0d0887"
            ],
            [
             0.1111111111111111,
             "#46039f"
            ],
            [
             0.2222222222222222,
             "#7201a8"
            ],
            [
             0.3333333333333333,
             "#9c179e"
            ],
            [
             0.4444444444444444,
             "#bd3786"
            ],
            [
             0.5555555555555556,
             "#d8576b"
            ],
            [
             0.6666666666666666,
             "#ed7953"
            ],
            [
             0.7777777777777778,
             "#fb9f3a"
            ],
            [
             0.8888888888888888,
             "#fdca26"
            ],
            [
             1,
             "#f0f921"
            ]
           ],
           "sequentialminus": [
            [
             0,
             "#0d0887"
            ],
            [
             0.1111111111111111,
             "#46039f"
            ],
            [
             0.2222222222222222,
             "#7201a8"
            ],
            [
             0.3333333333333333,
             "#9c179e"
            ],
            [
             0.4444444444444444,
             "#bd3786"
            ],
            [
             0.5555555555555556,
             "#d8576b"
            ],
            [
             0.6666666666666666,
             "#ed7953"
            ],
            [
             0.7777777777777778,
             "#fb9f3a"
            ],
            [
             0.8888888888888888,
             "#fdca26"
            ],
            [
             1,
             "#f0f921"
            ]
           ]
          },
          "colorway": [
           "#636efa",
           "#EF553B",
           "#00cc96",
           "#ab63fa",
           "#FFA15A",
           "#19d3f3",
           "#FF6692",
           "#B6E880",
           "#FF97FF",
           "#FECB52"
          ],
          "font": {
           "color": "#2a3f5f"
          },
          "geo": {
           "bgcolor": "white",
           "lakecolor": "white",
           "landcolor": "#E5ECF6",
           "showlakes": true,
           "showland": true,
           "subunitcolor": "white"
          },
          "hoverlabel": {
           "align": "left"
          },
          "hovermode": "closest",
          "mapbox": {
           "style": "light"
          },
          "paper_bgcolor": "white",
          "plot_bgcolor": "#E5ECF6",
          "polar": {
           "angularaxis": {
            "gridcolor": "white",
            "linecolor": "white",
            "ticks": ""
           },
           "bgcolor": "#E5ECF6",
           "radialaxis": {
            "gridcolor": "white",
            "linecolor": "white",
            "ticks": ""
           }
          },
          "scene": {
           "xaxis": {
            "backgroundcolor": "#E5ECF6",
            "gridcolor": "white",
            "gridwidth": 2,
            "linecolor": "white",
            "showbackground": true,
            "ticks": "",
            "zerolinecolor": "white"
           },
           "yaxis": {
            "backgroundcolor": "#E5ECF6",
            "gridcolor": "white",
            "gridwidth": 2,
            "linecolor": "white",
            "showbackground": true,
            "ticks": "",
            "zerolinecolor": "white"
           },
           "zaxis": {
            "backgroundcolor": "#E5ECF6",
            "gridcolor": "white",
            "gridwidth": 2,
            "linecolor": "white",
            "showbackground": true,
            "ticks": "",
            "zerolinecolor": "white"
           }
          },
          "shapedefaults": {
           "line": {
            "color": "#2a3f5f"
           }
          },
          "ternary": {
           "aaxis": {
            "gridcolor": "white",
            "linecolor": "white",
            "ticks": ""
           },
           "baxis": {
            "gridcolor": "white",
            "linecolor": "white",
            "ticks": ""
           },
           "bgcolor": "#E5ECF6",
           "caxis": {
            "gridcolor": "white",
            "linecolor": "white",
            "ticks": ""
           }
          },
          "title": {
           "x": 0.05
          },
          "xaxis": {
           "automargin": true,
           "gridcolor": "white",
           "linecolor": "white",
           "ticks": "",
           "title": {
            "standoff": 15
           },
           "zerolinecolor": "white",
           "zerolinewidth": 2
          },
          "yaxis": {
           "automargin": true,
           "gridcolor": "white",
           "linecolor": "white",
           "ticks": "",
           "title": {
            "standoff": 15
           },
           "zerolinecolor": "white",
           "zerolinewidth": 2
          }
         }
        },
        "xaxis": {
         "anchor": "y",
         "autorange": true,
         "domain": [
          0,
          1
         ],
         "range": [
          1985.5,
          2020.5
         ],
         "title": {
          "text": "year_filed"
         },
         "type": "linear"
        },
        "yaxis": {
         "anchor": "x",
         "autorange": true,
         "domain": [
          0,
          1
         ],
         "range": [
          0,
          55.78947368421053
         ],
         "title": {
          "text": "num_opinions"
         },
         "type": "linear"
        }
       }
      },
      "image/png": "[encoded data removed]",
      "text/html": [
       "<div>                            <div id=\"8d496207-2e7a-45b1-8172-85833bbf022b\" class=\"plotly-graph-div\" style=\"height:525px; width:100%;\"></div>            <script type=\"text/javascript\">                require([\"plotly\"], function(Plotly) {                    window.PLOTLYENV=window.PLOTLYENV || {};                                    if (document.getElementById(\"8d496207-2e7a-45b1-8172-85833bbf022b\")) {                    Plotly.newPlot(                        \"8d496207-2e7a-45b1-8172-85833bbf022b\",                        [{\"alignmentgroup\":\"True\",\"hovertemplate\":\"author_name=Justice Scalia<br>year_filed=%{x}<br>num_opinions=%{y}<extra></extra>\",\"legendgroup\":\"Justice Scalia\",\"marker\":{\"color\":\"#636efa\",\"pattern\":{\"shape\":\"\"}},\"name\":\"Justice Scalia\",\"offsetgroup\":\"Justice Scalia\",\"orientation\":\"v\",\"showlegend\":true,\"textposition\":\"auto\",\"x\":[1986,1987,1988,1989,1990,1991,1992,1993,1994,1995,1996,1997,1998,1999,2000,2001,2002,2003,2004,2005,2006,2007,2008,2009,2010,2011,2012,2013,2014,2015,2016],\"xaxis\":\"x\",\"y\":[2,30,32,33,34,38,31,24,23,19,22,24,28,14,22,26,23,27,27,18,18,20,17,16,21,34,19,24,19,26,7],\"yaxis\":\"y\",\"type\":\"bar\"},{\"alignmentgroup\":\"True\",\"hovertemplate\":\"author_name=Justice Ginsburg<br>year_filed=%{x}<br>num_opinions=%{y}<extra></extra>\",\"legendgroup\":\"Justice Ginsburg\",\"marker\":{\"color\":\"#EF553B\",\"pattern\":{\"shape\":\"\"}},\"name\":\"Justice Ginsburg\",\"offsetgroup\":\"Justice Ginsburg\",\"orientation\":\"v\",\"showlegend\":true,\"textposition\":\"auto\",\"x\":[1993,1994,1995,1996,1997,1998,1999,2000,2001,2002,2003,2004,2005,2006,2007,2008,2009,2010,2011,2012,2013,2014,2015,2016,2017,2018,2019,2020],\"xaxis\":\"x\",\"y\":[1,17,20,14,15,14,15,17,17,12,17,18,18,11,13,12,14,14,19,17,17,15,12,20,11,15,10,12],\"yaxis\":\"y\",\"type\":\"bar\"}],                        {\"template\":{\"data\":{\"bar\":[{\"error_x\":{\"color\":\"#2a3f5f\"},\"error_y\":{\"color\":\"#2a3f5f\"},\"marker\":{\"line\":{\"color\":\"#E5ECF6\",\"width\":0.5},\"pattern\":{\"fillmode\":\"overlay\",\"size\":10,\"solidity\":0.2}},\"type\":\"bar\"}],\"barpolar\":[{\"marker\":{\"line\":{\"color\":\"#E5ECF6\",\"width\":0.5},\"pattern\":{\"fillmode\":\"overlay\",\"size\":10,\"solidity\":0.2}},\"type\":\"barpolar\"}],\"carpet\":[{\"aaxis\":{\"endlinecolor\":\"#2a3f5f\",\"gridcolor\":\"white\",\"linecolor\":\"white\",\"minorgridcolor\":\"white\",\"startlinecolor\":\"#2a3f5f\"},\"baxis\":{\"endlinecolor\":\"#2a3f5f\",\"gridcolor\":\"white\",\"linecolor\":\"white\",\"minorgridcolor\":\"white\",\"startlinecolor\":\"#2a3f5f\"},\"type\":\"carpet\"}],\"choropleth\":[{\"colorbar\":{\"outlinewidth\":0,\"ticks\":\"\"},\"type\":\"choropleth\"}],\"contour\":[{\"colorbar\":{\"outlinewidth\":0,\"ticks\":\"\"},\"colorscale\":[[0.0,\"#0d0887\"],[0.1111111111111111,\"#46039f\"],[0.2222222222222222,\"#7201a8\"],[0.3333333333333333,\"#9c179e\"],[0.4444444444444444,\"#bd3786\"],[0.5555555555555556,\"#d8576b\"],[0.6666666666666666,\"#ed7953\"],[0.7777777777777778,\"#fb9f3a\"],[0.8888888888888888,\"#fdca26\"],[1.0,\"#f0f921\"]],\"type\":\"contour\"}],\"contourcarpet\":[{\"colorbar\":{\"outlinewidth\":0,\"ticks\":\"\"},\"type\":\"contourcarpet\"}],\"heatmap\":[{\"colorbar\":{\"outlinewidth\":0,\"ticks\":\"\"},\"colorscale\":[[0.0,\"#0d0887\"],[0.1111111111111111,\"#46039f\"],[0.2222222222222222,\"#7201a8\"],[0.3333333333333333,\"#9c179e\"],[0.4444444444444444,\"#bd3786\"],[0.5555555555555556,\"#d8576b\"],[0.6666666666666666,\"#ed7953\"],[0.7777777777777778,\"#fb9f3a\"],[0.8888888888888888,\"#fdca26\"],[1.0,\"#f0f921\"]],\"type\":\"heatmap\"}],\"heatmapgl\":[{\"colorbar\":{\"outlinewidth\":0,\"ticks\":\"\"},\"colorscale\":[[0.0,\"#0d0887\"],[0.1111111111111111,\"#46039f\"],[0.2222222222222222,\"#7201a8\"],[0.3333333333333333,\"#9c179e\"],[0.4444444444444444,\"#bd3786\"],[0.5555555555555556,\"#d8576b\"],[0.6666666666666666,\"#ed7953\"],[0.7777777777777778,\"#fb9f3a\"],[0.8888888888888888,\"#fdca26\"],[1.0,\"#f0f921\"]],\"type\":\"heatmapgl\"}],\"histogram\":[{\"marker\":{\"pattern\":{\"fillmode\":\"overlay\",\"size\":10,\"solidity\":0.2}},\"type\":\"histogram\"}],\"histogram2d\":[{\"colorbar\":{\"outlinewidth\":0,\"ticks\":\"\"},\"colorscale\":[[0.0,\"#0d0887\"],[0.1111111111111111,\"#46039f\"],[0.2222222222222222,\"#7201a8\"],[0.3333333333333333,\"#9c179e\"],[0.4444444444444444,\"#bd3786\"],[0.5555555555555556,\"#d8576b\"],[0.6666666666666666,\"#ed7953\"],[0.7777777777777778,\"#fb9f3a\"],[0.8888888888888888,\"#fdca26\"],[1.0,\"#f0f921\"]],\"type\":\"histogram2d\"}],\"histogram2dcontour\":[{\"colorbar\":{\"outlinewidth\":0,\"ticks\":\"\"},\"colorscale\":[[0.0,\"#0d0887\"],[0.1111111111111111,\"#46039f\"],[0.2222222222222222,\"#7201a8\"],[0.3333333333333333,\"#9c179e\"],[0.4444444444444444,\"#bd3786\"],[0.5555555555555556,\"#d8576b\"],[0.6666666666666666,\"#ed7953\"],[0.7777777777777778,\"#fb9f3a\"],[0.8888888888888888,\"#fdca26\"],[1.0,\"#f0f921\"]],\"type\":\"histogram2dcontour\"}],\"mesh3d\":[{\"colorbar\":{\"outlinewidth\":0,\"ticks\":\"\"},\"type\":\"mesh3d\"}],\"parcoords\":[{\"line\":{\"colorbar\":{\"outlinewidth\":0,\"ticks\":\"\"}},\"type\":\"parcoords\"}],\"pie\":[{\"automargin\":true,\"type\":\"pie\"}],\"scatter\":[{\"marker\":{\"colorbar\":{\"outlinewidth\":0,\"ticks\":\"\"}},\"type\":\"scatter\"}],\"scatter3d\":[{\"line\":{\"colorbar\":{\"outlinewidth\":0,\"ticks\":\"\"}},\"marker\":{\"colorbar\":{\"outlinewidth\":0,\"ticks\":\"\"}},\"type\":\"scatter3d\"}],\"scattercarpet\":[{\"marker\":{\"colorbar\":{\"outlinewidth\":0,\"ticks\":\"\"}},\"type\":\"scattercarpet\"}],\"scattergeo\":[{\"marker\":{\"colorbar\":{\"outlinewidth\":0,\"ticks\":\"\"}},\"type\":\"scattergeo\"}],\"scattergl\":[{\"marker\":{\"colorbar\":{\"outlinewidth\":0,\"ticks\":\"\"}},\"type\":\"scattergl\"}],\"scattermapbox\":[{\"marker\":{\"colorbar\":{\"outlinewidth\":0,\"ticks\":\"\"}},\"type\":\"scattermapbox\"}],\"scatterpolar\":[{\"marker\":{\"colorbar\":{\"outlinewidth\":0,\"ticks\":\"\"}},\"type\":\"scatterpolar\"}],\"scatterpolargl\":[{\"marker\":{\"colorbar\":{\"outlinewidth\":0,\"ticks\":\"\"}},\"type\":\"scatterpolargl\"}],\"scatterternary\":[{\"marker\":{\"colorbar\":{\"outlinewidth\":0,\"ticks\":\"\"}},\"type\":\"scatterternary\"}],\"surface\":[{\"colorbar\":{\"outlinewidth\":0,\"ticks\":\"\"},\"colorscale\":[[0.0,\"#0d0887\"],[0.1111111111111111,\"#46039f\"],[0.2222222222222222,\"#7201a8\"],[0.3333333333333333,\"#9c179e\"],[0.4444444444444444,\"#bd3786\"],[0.5555555555555556,\"#d8576b\"],[0.6666666666666666,\"#ed7953\"],[0.7777777777777778,\"#fb9f3a\"],[0.8888888888888888,\"#fdca26\"],[1.0,\"#f0f921\"]],\"type\":\"surface\"}],\"table\":[{\"cells\":{\"fill\":{\"color\":\"#EBF0F8\"},\"line\":{\"color\":\"white\"}},\"header\":{\"fill\":{\"color\":\"#C8D4E3\"},\"line\":{\"color\":\"white\"}},\"type\":\"table\"}]},\"layout\":{\"annotationdefaults\":{\"arrowcolor\":\"#2a3f5f\",\"arrowhead\":0,\"arrowwidth\":1},\"autotypenumbers\":\"strict\",\"coloraxis\":{\"colorbar\":{\"outlinewidth\":0,\"ticks\":\"\"}},\"colorscale\":{\"diverging\":[[0,\"#8e0152\"],[0.1,\"#c51b7d\"],[0.2,\"#de77ae\"],[0.3,\"#f1b6da\"],[0.4,\"#fde0ef\"],[0.5,\"#f7f7f7\"],[0.6,\"#e6f5d0\"],[0.7,\"#b8e186\"],[0.8,\"#7fbc41\"],[0.9,\"#4d9221\"],[1,\"#276419\"]],\"sequential\":[[0.0,\"#0d0887\"],[0.1111111111111111,\"#46039f\"],[0.2222222222222222,\"#7201a8\"],[0.3333333333333333,\"#9c179e\"],[0.4444444444444444,\"#bd3786\"],[0.5555555555555556,\"#d8576b\"],[0.6666666666666666,\"#ed7953\"],[0.7777777777777778,\"#fb9f3a\"],[0.8888888888888888,\"#fdca26\"],[1.0,\"#f0f921\"]],\"sequentialminus\":[[0.0,\"#0d0887\"],[0.1111111111111111,\"#46039f\"],[0.2222222222222222,\"#7201a8\"],[0.3333333333333333,\"#9c179e\"],[0.4444444444444444,\"#bd3786\"],[0.5555555555555556,\"#d8576b\"],[0.6666666666666666,\"#ed7953\"],[0.7777777777777778,\"#fb9f3a\"],[0.8888888888888888,\"#fdca26\"],[1.0,\"#f0f921\"]]},\"colorway\":[\"#636efa\",\"#EF553B\",\"#00cc96\",\"#ab63fa\",\"#FFA15A\",\"#19d3f3\",\"#FF6692\",\"#B6E880\",\"#FF97FF\",\"#FECB52\"],\"font\":{\"color\":\"#2a3f5f\"},\"geo\":{\"bgcolor\":\"white\",\"lakecolor\":\"white\",\"landcolor\":\"#E5ECF6\",\"showlakes\":true,\"showland\":true,\"subunitcolor\":\"white\"},\"hoverlabel\":{\"align\":\"left\"},\"hovermode\":\"closest\",\"mapbox\":{\"style\":\"light\"},\"paper_bgcolor\":\"white\",\"plot_bgcolor\":\"#E5ECF6\",\"polar\":{\"angularaxis\":{\"gridcolor\":\"white\",\"linecolor\":\"white\",\"ticks\":\"\"},\"bgcolor\":\"#E5ECF6\",\"radialaxis\":{\"gridcolor\":\"white\",\"linecolor\":\"white\",\"ticks\":\"\"}},\"scene\":{\"xaxis\":{\"backgroundcolor\":\"#E5ECF6\",\"gridcolor\":\"white\",\"gridwidth\":2,\"linecolor\":\"white\",\"showbackground\":true,\"ticks\":\"\",\"zerolinecolor\":\"white\"},\"yaxis\":{\"backgroundcolor\":\"#E5ECF6\",\"gridcolor\":\"white\",\"gridwidth\":2,\"linecolor\":\"white\",\"showbackground\":true,\"ticks\":\"\",\"zerolinecolor\":\"white\"},\"zaxis\":{\"backgroundcolor\":\"#E5ECF6\",\"gridcolor\":\"white\",\"gridwidth\":2,\"linecolor\":\"white\",\"showbackground\":true,\"ticks\":\"\",\"zerolinecolor\":\"white\"}},\"shapedefaults\":{\"line\":{\"color\":\"#2a3f5f\"}},\"ternary\":{\"aaxis\":{\"gridcolor\":\"white\",\"linecolor\":\"white\",\"ticks\":\"\"},\"baxis\":{\"gridcolor\":\"white\",\"linecolor\":\"white\",\"ticks\":\"\"},\"bgcolor\":\"#E5ECF6\",\"caxis\":{\"gridcolor\":\"white\",\"linecolor\":\"white\",\"ticks\":\"\"}},\"title\":{\"x\":0.05},\"xaxis\":{\"automargin\":true,\"gridcolor\":\"white\",\"linecolor\":\"white\",\"ticks\":\"\",\"title\":{\"standoff\":15},\"zerolinecolor\":\"white\",\"zerolinewidth\":2},\"yaxis\":{\"automargin\":true,\"gridcolor\":\"white\",\"linecolor\":\"white\",\"ticks\":\"\",\"title\":{\"standoff\":15},\"zerolinecolor\":\"white\",\"zerolinewidth\":2}}},\"xaxis\":{\"anchor\":\"y\",\"domain\":[0.0,1.0],\"title\":{\"text\":\"year_filed\"}},\"yaxis\":{\"anchor\":\"x\",\"domain\":[0.0,1.0],\"title\":{\"text\":\"num_opinions\"}},\"legend\":{\"title\":{\"text\":\"author_name\"},\"tracegroupgap\":0},\"margin\":{\"t\":60},\"barmode\":\"relative\"},                        {\"responsive\": true}                    ).then(function(){\n",
       "                            \n",
       "var gd = document.getElementById('8d496207-2e7a-45b1-8172-85833bbf022b');\n",
       "var x = new MutationObserver(function (mutations, observer) {{\n",
       "        var display = window.getComputedStyle(gd).display;\n",
       "        if (!display || display === 'none') {{\n",
       "            console.log([gd, 'removed!']);\n",
       "            Plotly.purge(gd);\n",
       "            observer.disconnect();\n",
       "        }}\n",
       "}});\n",
       "\n",
       "// Listen for the removal of the full notebook cells\n",
       "var notebookContainer = gd.closest('#notebook-container');\n",
       "if (notebookContainer) {{\n",
       "    x.observe(notebookContainer, {childList: true});\n",
       "}}\n",
       "\n",
       "// Listen for the clearing of the current output cell\n",
       "var outputEl = gd.closest('.output');\n",
       "if (outputEl) {{\n",
       "    x.observe(outputEl, {childList: true});\n",
       "}}\n",
       "\n",
       "                        })                };                });            </script>        </div>"
      ]
     },
     "metadata": {},
     "output_type": "display_data"
    }
   ],
   "source": [
    "#opinions over time\n",
    "#we want three columns. Year published, author name, and number of opinions\n",
    "opinions_over_time = rbg_scalia.groupby([\"year_filed\", \"author_name\"], as_index = False).agg(num_opinions = (\"author_name\", \"count\"))\n",
    "px.bar(opinions_over_time, x = \"year_filed\", y = \"num_opinions\", color = \"author_name\")"
   ]
  },
  {
   "cell_type": "markdown",
   "metadata": {},
   "source": [
    "# Text preprocessing\n",
    "\n",
    "* remove any references to each other or other justices\n",
    "* remove any hyperlinks\n",
    "* remove any newlines\n",
    "* remove Cite As issues\n",
    "* remove numbers, page numbers, roman numerals\n",
    "* remove dates\n",
    "\n",
    "\n",
    "Try to do this first by \"re\" methods, then try to use hugging face transformers to clean stuff up\n",
    "\n",
    "\n"
   ]
  },
  {
   "cell_type": "code",
   "execution_count": 50,
   "metadata": {},
   "outputs": [
    {
     "name": "stdout",
     "output_type": "stream",
     "text": [
      "We consider the circumstances under which an em\n",
      "ployer may be held liable for employment discrimination\n",
      "based on the discriminatory animus of an employee who\n",
      "influenced, but did not make, the ultimate employment\n",
      "decision.\n",
      "                                         I\n",
      "  Petitioner Vincent Staub worked as an angiography\n",
      "technician for respondent Proctor Hospital until 2004,\n",
      "when he was fired. Staub and Proctor hotly dispute the\n",
      "facts surrounding the firing, but because a jury found for\n",
      "Staub in his claim of employment discrimination against\n",
      "Proctor, we describe the facts viewed in the light most\n",
      "favorable to him.\n",
      "  While employed by Proctor, Staub was a member of the\n",
      "United States Army Reserve, which required him to at\n",
      "tend drill one weekend per month and to train full time for\n",
      "two to three weeks a year. Both Janice Mulally, Staub’s\n",
      "immediate supervisor, and Michael Korenchuk, Mulally’s\n",
      "supervisor, were hostile to Staub’s military obligations.\n",
      "Mulally scheduled Staub for additional shifts without\n",
      "2               STAUB v. PROCTOR HOSPITAL\n",
      "\n",
      "                     Opinion of the Court\n",
      "\n",
      "notice so that he would “ ‘pa[y] back the department for\n",
      "everyone else having to bend over backwards to cover [his]\n",
      "schedule for the Reserves.’ ” 560 F.3d 647, 652 (CA7\n",
      "2009). She also informed Staub’s co-worker, Leslie Swe\n",
      "borg, that Staub’s “ ‘military duty had been a strain on\n",
      "th[e] department,’ ” and asked Sweborg to help her “ ‘get\n",
      "rid of him.’ ” Ibid. Korenchuk referred to Staub’s military\n",
      "obligations as “ ‘a b[u]nch of smoking and joking and [a]\n",
      "waste of taxpayers[’] money.’ ” Ibid. He was also aware\n",
      "that Mulally was “ ‘out to get’ ” Staub. Ibid.\n",
      "   In January 2004, Mulally issued Staub a “Corrective\n",
      "Action” disciplinary warning for purportedly violating a\n",
      "company rule requiring him to stay in his work area\n",
      "whenever he was not working with a patient. The Correc\n",
      "tive Action included a directive requiring Staub to report\n",
      "to Mulally or Korenchuk “ ‘when [he] ha[d] no patients and\n",
      "[the angio] cases [we]re complete[d].’ ” Id., at 653. Accord\n",
      "ing to Staub, Mulally’s justification for the Corrective\n",
      "Action was false for two reasons: First, the company rule\n",
      "invoked by Mulally did not exist; and second, even if it did,\n",
      "Staub did not violate it.\n",
      "   On April 2, 2004, Angie Day, Staub’s co-worker, com\n",
      "plained to Linda Buck, Proctor’s vice president of human\n",
      "resources, and Garrett McGowan, Proctor’s chief operating\n",
      "officer, about Staub’s frequent unavailability and abrupt\n",
      "ness. McGowan directed Korenchuk and Buck to create a\n",
      "plan that would solve Staub’s “ ‘availability’ problems.”\n",
      "Id., at 654. But three weeks later, before they had time to\n",
      "do so, Korenchuk informed Buck that Staub had left his\n",
      "desk without informing a supervisor, in violation of the\n",
      "January Corrective Action. Staub now contends this\n",
      "accusation was false: he had left Korenchuk a voice-mail\n",
      "notification that he was leaving his desk. Buck relied on\n",
      "Korenchuk’s accusation, however, and after reviewing\n",
      "Staub’s personnel file, she decided to fire him. The termi\n",
      "nation notice stated that Staub had ignored the directive\n",
      "                     Cite as: 562 U. S. ____ (2011)                     3\n",
      "\n",
      "                          Opinion of the Court\n",
      "\n",
      "issued in the January 2004 Corrective Action.\n",
      "   Staub challenged his firing through Proctor’s grievance\n",
      "process, claiming that Mulally had fabricated the allega\n",
      "tion underlying the Corrective Action out of hostility\n",
      "toward his military obligations. Buck did not follow\n",
      "up with Mulally about this claim. After discussing the\n",
      "matter with another personnel officer, Buck adhered to\n",
      "her decision.\n",
      "   Staub sued Proctor under the Uniformed Services Em\n",
      "ployment and Reemployment Rights Act of 1994, 38\n",
      "U.S. C. §4301 et seq., claiming that his discharge was\n",
      "motivated by hostility to his obligations as a military\n",
      "reservist. His contention was not that Buck had any such\n",
      "hostility but that Mulally and Korenchuk did, and that\n",
      "their actions influenced Buck’s ultimate employment\n",
      "decision. A jury found that Staub’s “military status was a\n",
      "motivating factor in [Proctor’s] decision to discharge him,”\n",
      "App. 68a, and awarded $57,640 in damages.\n",
      "   The Seventh Circuit reversed, holding that Proctor was\n",
      "entitled to judgment as a matter of law. 560 F.3d 647.\n",
      "The court observed that Staub had brought a “ ‘cat’s paw’\n",
      "case,” meaning that he sought to hold his employer liable\n",
      "for the animus of a supervisor who was not charged with\n",
      "making the ultimate employment decision. Id., at 655–\n",
      "656.1 It explained that under Seventh Circuit precedent, a\n",
      "“cat’s paw” case could not succeed unless the nondecision\n",
      "maker exercised such “ ‘singular influence’ ” over the deci\n",
      "——————\n",
      "  1 The term “cat’s paw” derives from a fable conceived by Aesop, put\n",
      "\n",
      "into verse by La Fontaine in 1679, and injected into United States\n",
      "employment discrimination law by Posner in 1990. See Shager v.\n",
      "Upjohn Co., 913 F.2d 398, 405 (CA7). In the fable, a monkey induces a\n",
      "cat by flattery to extract roasting chestnuts from the fire. After the cat\n",
      "has done so, burning its paws in the process, the monkey makes off\n",
      "with the chestnuts and leaves the cat with nothing. A coda to the fable\n",
      "(relevant only marginally, if at all, to employment law) observes that\n",
      "the cat is similar to princes who, flattered by the king, perform services\n",
      "on the king’s behalf and receive no reward.\n",
      "4               STAUB v. PROCTOR HOSPITAL\n",
      "\n",
      "                     Opinion of the Court\n",
      "\n",
      "sionmaker that the decision to terminate was the product\n",
      "of “blind reliance.” Id., at 659. It then noted that “Buck\n",
      "looked beyond what Mulally and Korenchuk said,” relying\n",
      "in part on her conversation with Day and her review of\n",
      "Staub’s personnel file. Ibid. The court “admit[ted] that\n",
      "Buck’s investigation could have been more robust,” since it\n",
      "“failed to pursue Staub’s theory that Mulally fabricated\n",
      "the write-up.” Ibid. But the court said that the “ ‘singular\n",
      "influence’ ” rule “does not require the decisionmaker to be\n",
      "a paragon of independence”: “It is enough that the deci\n",
      "sionmaker is not wholly dependent on a single source of\n",
      "information and conducts her own investigation into the\n",
      "facts relevant to the decision.” Ibid. (internal quotation\n",
      "marks omitted). Because the undisputed evidence estab\n",
      "lished that Buck was not wholly dependent on the advice\n",
      "of Korenchuk and Mulally, the court held that Proctor was\n",
      "entitled to judgment. Ibid.\n",
      "   We granted certiorari. 559 U. S. ___ (2010).\n",
      "                          II\n",
      "   The Uniformed Services Employment and Reemploy\n",
      "ment Rights Act (USERRA) provides in relevant part as\n",
      "follows:\n",
      "       “A person who is a member of . . . or has an obliga\n",
      "    tion to perform service in a uniformed service shall\n",
      "    not be denied initial employment, reemployment, re\n",
      "    tention in employment, promotion, or any benefit of\n",
      "    employment by an employer on the basis of that\n",
      "    membership, . . . or obligation.” 38 U.S. C. §4311(a).\n",
      "It elaborates further:\n",
      "      “An employer shall be considered to have engaged\n",
      "    in actions prohibited . . . under subsection (a), if the\n",
      "    person’s membership . . . is a motivating factor in the\n",
      "    employer’s action, unless the employer can prove that\n",
      "    the action would have been taken in the absence of\n",
      "                 Cite as: 562 U. S. ____ (2011)            5\n",
      "\n",
      "                     Opinion of the Court\n",
      "\n",
      "    such membership.” §4311(c).\n",
      "The statute is very similar to Title VII, which prohibits\n",
      "employment discrimination “because of . . . race, color,\n",
      "religion, sex, or national origin” and states that such\n",
      "discrimination is established when one of those factors\n",
      "“was a motivating factor for any employment practice,\n",
      "even though other factors also motivated the practice.” 42\n",
      "U.S. C. §§2000e–2(a), (m).\n",
      "  The central difficulty in this case is construing the\n",
      "phrase “motivating factor in the employer’s action.” When\n",
      "the company official who makes the decision to take an\n",
      "adverse employment action is personally acting out of\n",
      "hostility to the employee’s membership in or obligation to\n",
      "a uniformed service, a motivating factor obviously exists.\n",
      "The problem we confront arises when that official has no\n",
      "discriminatory animus but is influenced by previous com\n",
      "pany action that is the product of a like animus in some\n",
      "one else.\n",
      "  In approaching this question, we start from the premise\n",
      "that when Congress creates a federal tort it adopts the\n",
      "background of general tort law. See Burlington N. & S.\n",
      "F. R. Co. v. United States, 556 U. S. ___, ___ (2009) (slip\n",
      "op., at 13–14); Safeco Ins. Co. of America v. Burr, 551 U.S.\n",
      "47, 68–69 (2007); Burlington Industries, Inc. v. Ellerth,\n",
      "524 U.S. 742, 764 (1998). Intentional torts such as this,\n",
      "“as distinguished from negligent or reckless torts, . . .\n",
      "generally require that the actor intend ‘the consequences’\n",
      "of an act,’ not simply ‘the act itself.’ ” Kawaauhau v. Gei\n",
      "ger, 523 U.S. 57, 61–62 (1998).\n",
      "  Staub contends that the fact that an unfavorable entry\n",
      "on the plaintiff’s personnel record was caused to be put\n",
      "there, with discriminatory animus, by Mulally and Koren\n",
      "chuk, suffices to establish the tort, even if Mulally and\n",
      "Korenchuk did not intend to cause his dismissal. But\n",
      "discrimination was no part of Buck’s reason for the dis\n",
      "6              STAUB v. PROCTOR HOSPITAL\n",
      "\n",
      "                     Opinion of the Court\n",
      "\n",
      "missal; and while Korenchuk and Mulally acted with\n",
      "discriminatory animus, the act they committed—the mere\n",
      "making of the reports—was not a denial of “initial em\n",
      "ployment, reemployment, retention in employment, pro\n",
      "motion, or any benefit of employment,” as liability under\n",
      "USERRA requires. If dismissal was not the object of\n",
      "Mulally’s and Korenchuk’s reports, it may have been\n",
      "their result, or even their foreseeable consequence, but\n",
      "that is not enough to render Mulally or Korenchuk\n",
      "responsible.\n",
      "  Here, however, Staub is seeking to hold liable not Mu\n",
      "lally and Korenchuk, but their employer. Perhaps, there\n",
      "fore, the discriminatory motive of one of the employer’s\n",
      "agents (Mulally or Korenchuk) can be aggregated with the\n",
      "act of another agent (Buck) to impose liability on Proctor.\n",
      "Again we consult general principles of law, agency law,\n",
      "which form the background against which federal tort\n",
      "laws are enacted. See Meyer v. Holley, 537 U.S. 280, 285\n",
      "(2003); Burlington, supra, at 754–755. Here, however, the\n",
      "answer is not so clear. The Restatement of Agency sug\n",
      "gests that the malicious mental state of one agent cannot\n",
      "generally be combined with the harmful action of another\n",
      "agent to hold the principal liable for a tort that requires\n",
      "both. See Restatement (Second) Agency §275, Illustration\n",
      "4 (1958). Some of the cases involving federal torts apply\n",
      "that rule. See United States v. Science Applications Int’l\n",
      "Corp., 626 F.3d 1257, 1273–1276 (CADC 2010); Chaney v.\n",
      "Dreyfus Service Corp., 595 F.3d 219, 241 (CA5 2010);\n",
      "United States v. Philip Morris USA Inc., 566 F.3d 1095,\n",
      "1122 (CADC 2009). But another case involving a federal\n",
      "tort, and one involving a federal crime, hold to the con\n",
      "trary. See United States ex rel. Harrison v. Westinghouse\n",
      "Savannah River Co., 352 F.3d 908, 918–919 (CA4 2003);\n",
      "United States v. Bank of New England, N. A., 821 F.2d\n",
      "844, 856 (CA1 1987). Ultimately, we think it unnecessary\n",
      "in this case to decide what the background rule of agency\n",
      "                    Cite as: 562 U. S. ____ (2011)                   7\n",
      "\n",
      "                         Opinion of the Court\n",
      "\n",
      "law may be, since the former line of authority is suggested\n",
      "by the governing text, which requires that discrimination\n",
      "be “a motivating factor” in the adverse action. When a\n",
      "decision to fire is made with no unlawful animus on the\n",
      "part of the firing agent, but partly on the basis of a report\n",
      "prompted (unbeknownst to that agent) by discrimination,\n",
      "discrimination might perhaps be called a “factor” or a\n",
      "“causal factor” in the decision; but it seems to us a consid\n",
      "erable stretch to call it “a motivating factor.”\n",
      "   Proctor, on the other hand, contends that the employer\n",
      "is not liable unless the de facto decisionmaker (the techni\n",
      "cal decisionmaker or the agent for whom he is the “cat’s\n",
      "paw”) is motivated by discriminatory animus. This avoids\n",
      "the aggregation of animus and adverse action, but it\n",
      "seems to us not the only application of general tort law\n",
      "that can do so. Animus and responsibility for the adverse\n",
      "action can both be attributed to the earlier agent (here,\n",
      "Staub’s supervisors) if the adverse action is the intended\n",
      "consequence of that agent’s discriminatory conduct. So\n",
      "long as the agent intends, for discriminatory reasons, that\n",
      "the adverse action occur, he has the scienter required to be\n",
      "liable under USERRA. And it is axiomatic under tort law\n",
      "that the exercise of judgment by the decisionmaker does\n",
      "not prevent the earlier agent’s action (and hence the ear\n",
      "lier agent’s discriminatory animus) from being the proxi\n",
      "mate cause of the harm. Proximate cause requires only\n",
      "“some direct relation between the injury asserted and the\n",
      "injurious conduct alleged,” and excludes only those “link[s]\n",
      "that are too remote, purely contingent, or indirect.” Hemi\n",
      "Group, LLC v. City of New York, 559 U.S. 1, ___ (2010)\n",
      "(slip op., at 9) (internal quotation marks omitted).2 We do\n",
      "——————\n",
      "  2 Under the traditional doctrine of proximate cause, a tortfeasor is\n",
      "\n",
      "sometimes, but not always, liable when he intends to cause an adverse\n",
      "action and a different adverse action results. See Restatement (Second)\n",
      "Torts §§435, 435B and Comment a (1963 and 1964). That issue is not\n",
      "presented in this case since the record contains no evidence that Mu\n",
      "8                 STAUB v. PROCTOR HOSPITAL\n",
      "\n",
      "                        Opinion of the Court\n",
      "\n",
      "not think that the ultimate decisionmaker’s exercise of\n",
      "judgment automatically renders the link to the supervi\n",
      "sor’s bias “remote” or “purely contingent.” The decision\n",
      "maker’s exercise of judgment is also a proximate cause of\n",
      "the employment decision, but it is common for injuries to\n",
      "have multiple proximate causes. See Sosa v. Alvarez-\n",
      "Machain, 542 U.S. 692, 704 (2004). Nor can the ultimate\n",
      "decisionmaker’s judgment be deemed a superseding cause\n",
      "of the harm. A cause can be thought “superseding” only if\n",
      "it is a “cause of independent origin that was not foresee\n",
      "able.” Exxon Co., U. S. A. v. Sofec, Inc., 517 U.S. 830, 837\n",
      "(1996) (internal quotation marks omitted).\n",
      "   Moreover, the approach urged upon us by Proctor gives\n",
      "an unlikely meaning to a provision designed to prevent\n",
      "employer discrimination. An employer’s authority to\n",
      "reward, punish, or dismiss is often allocated among multi\n",
      "ple agents. The one who makes the ultimate decision does\n",
      "so on the basis of performance assessments by other su\n",
      "pervisors. Proctor’s view would have the improbable\n",
      "consequence that if an employer isolates a personnel\n",
      "official from an employee’s supervisors, vests the decision\n",
      "to take adverse employment actions in that official, and\n",
      "asks that official to review the employee’s personnel file\n",
      "before taking the adverse action, then the employer will be\n",
      "effectively shielded from discriminatory acts and recom\n",
      "mendations of supervisors that were designed and in\n",
      "tended to produce the adverse action. That seems to us an\n",
      "implausible meaning of the text, and one that is not com\n",
      "pelled by its words.\n",
      "   Proctor suggests that even if the decisionmaker’s mere\n",
      "exercise of independent judgment does not suffice to ne\n",
      "gate the effect of the prior discrimination, at least the\n",
      "decisionmaker’s independent investigation (and rejection)\n",
      "—————— \n",
      "\n",
      "lally or Korenchuk intended any particular adverse action other than\n",
      "\n",
      "Staub’s termination.\n",
      "\n",
      "                 Cite as: 562 U. S. ____ (2011)            9\n",
      "\n",
      "                     Opinion of the Court\n",
      "\n",
      "of the employee’s allegations of discriminatory animus\n",
      "ought to do so. We decline to adopt such a hard-and-fast\n",
      "rule. As we have already acknowledged, the requirement\n",
      "that the biased supervisor’s action be a causal factor of the\n",
      "ultimate employment action incorporates the traditional\n",
      "tort-law concept of proximate cause. See, e.g., Anza v.\n",
      "Ideal Steel Supply Corp., 547 U.S. 451, 457–458 (2006);\n",
      "Sosa, supra, at 703. Thus, if the employer’s investigation\n",
      "results in an adverse action for reasons unrelated to the\n",
      "supervisor’s original biased action (by the terms of\n",
      "USERRA it is the employer’s burden to establish that),\n",
      "then the employer will not be liable. But the supervisor’s\n",
      "biased report may remain a causal factor if the independ\n",
      "ent investigation takes it into account without determin\n",
      "ing that the adverse action was, apart from the supervi\n",
      "sor’s recommendation, entirely justified. We are aware of\n",
      "no principle in tort or agency law under which an em\n",
      "ployer’s mere conduct of an independent investigation has\n",
      "a claim-preclusive effect. Nor do we think the independ\n",
      "ent investigation somehow relieves the employer of “fault.”\n",
      "The employer is at fault because one of its agents commit\n",
      "ted an action based on discriminatory animus that was\n",
      "intended to cause, and did in fact cause, an adverse em\n",
      "ployment decision.\n",
      "  JUSTICE ALITO claims that our failure to adopt a rule\n",
      "immunizing an employer who performs an independent\n",
      "investigation reflects a “stray[ing] from the statutory\n",
      "text.” Post, at 2 (opinion concurring in judgment). We do\n",
      "not understand this accusation. Since a supervisor is an\n",
      "agent of the employer, when he causes an adverse em\n",
      "ployment action the employer causes it; and when dis\n",
      "crimination is a motivating factor in his doing so, it is a\n",
      "“motivating factor in the employer’s action,” precisely as\n",
      "the text requires. JUSTICE ALITO suggests that the em\n",
      "ployer should be held liable only when it “should be re\n",
      "garded as having delegated part of the decisionmaking\n",
      "10                 STAUB v. PROCTOR HOSPITAL\n",
      "\n",
      "                          Opinion of the Court\n",
      "\n",
      "power” to the biased supervisor. Ibid. But if the inde\n",
      "pendent investigation relies on facts provided by the bi\n",
      "ased supervisor—as is necessary in any case of cat’s-paw\n",
      "liability—then the employer (either directly or through\n",
      "the ultimate decisionmaker) will have effectively delegated\n",
      "the factfinding portion of the investigation to the biased\n",
      "supervisor. Contrary to JUSTICE ALITO’s suggestion, the\n",
      "biased supervisor is not analogous to a witness at a bench\n",
      "trial. The mere witness is not an actor in the events that\n",
      "are the subject of the trial. The biased supervisor and the\n",
      "ultimate decisionmaker, however, acted as agents of the\n",
      "entity that the plaintiff seeks to hold liable; each of them\n",
      "possessed supervisory authority delegated by their em\n",
      "ployer and exercised it in the interest of their employer.\n",
      "In sum, we do not see how “fidelity to the statutory text,”\n",
      "ibid., requires the adoption of an independent\n",
      "investigation defense that appears nowhere in the text.\n",
      "And we find both speculative and implausible JUSTICE\n",
      "ALITO’s prediction that our Nation’s employers will sys\n",
      "tematically disfavor members of the armed services in\n",
      "their hiring decisions to avoid the possibility of cat’s-paw\n",
      "liability, a policy that would violate USERRA in any\n",
      "event.\n",
      "   We therefore hold that if a supervisor performs an act\n",
      "motivated by antimilitary animus that is intended by the\n",
      "supervisor to cause an adverse employment action,3 and if\n",
      "that act is a proximate cause of the ultimate employment\n",
      "action, then the employer is liable under USERRA. 4\n",
      "——————\n",
      "  3 Under  traditional tort law, “ ‘intent’ . . . denote[s] that the actor\n",
      "desires to cause consequences of his act, or that he believes that the\n",
      "consequences are substantially certain to result from it.” Id., §8A.\n",
      "  4 Needless to say, the employer would be liable only when the super\n",
      "\n",
      "visor acts within the scope of his employment, or when the supervisor\n",
      "acts outside the scope of his employment and liability would be imputed\n",
      "to the employer under traditional agency principles. See Burlington\n",
      "Industries, Inc. v. Ellerth, 524 U.S. 742, 758 (1998). We express no\n",
      "                    Cite as: 562 U. S. ____ (2011) \n",
      "               11\n",
      "\n",
      "                        Opinion of the Court \n",
      "\n",
      "\n",
      "                            III \n",
      "\n",
      "  Applying our analysis to the facts of this case, it is clear\n",
      "that the Seventh Circuit’s judgment must be reversed.\n",
      "Both Mulally and Korenchuk were acting within the scope\n",
      "of their employment when they took the actions that\n",
      "allegedly caused Buck to fire Staub. A “reprimand . . . for\n",
      "workplace failings” constitutes conduct within the scope of\n",
      "an agent’s employment. Faragher v. Boca Raton, 524\n",
      "U.S. 775, 798–799 (1998). As the Seventh Circuit recog\n",
      "nized, there was evidence that Mulally’s and Korenchuk’s\n",
      "actions were motivated by hostility toward Staub’s mili\n",
      "tary obligations. There was also evidence that Mulally’s\n",
      "and Korenchuk’s actions were causal factors underlying\n",
      "Buck’s decision to fire Staub. Buck’s termination notice\n",
      "expressly stated that Staub was terminated because he\n",
      "had “ignored” the directive in the Corrective Action. Fi\n",
      "nally, there was evidence that both Mulally and Koren\n",
      "chuk had the specific intent to cause Staub to be termi\n",
      "nated. Mulally stated she was trying to “ ‘get rid of ’ ”\n",
      "Staub, and Korenchuk was aware that Mulally was “ ‘out\n",
      "to get’ ” Staub. Moreover, Korenchuk informed Buck,\n",
      "Proctor’s personnel officer responsible for terminating\n",
      "employees, of Staub’s alleged noncompliance with Mu\n",
      "lally’s Corrective Action, and Buck fired Staub immedi\n",
      "ately thereafter; a reasonable jury could infer that Koren\n",
      "chuk intended that Staub be fired. The Seventh Circuit\n",
      "therefore erred in holding that Proctor was entitled to\n",
      "judgment as a matter of law.\n",
      "  It is less clear whether the jury’s verdict should be\n",
      "reinstated or whether Proctor is entitled to a new trial.\n",
      "——————\n",
      "view as to whether the employer would be liable if a co-worker, rather\n",
      "than a supervisor, committed a discriminatory act that influenced the\n",
      "ultimate employment decision. We also observe that Staub took advan\n",
      "tage of Proctor’s grievance process, and we express no view as to\n",
      "whether Proctor would have an affirmative defense if he did not. Cf.\n",
      "Pennsylvania State Police v. Suders, 542 U.S. 129, 148–149 (2004).\n",
      "12             STAUB v. PROCTOR HOSPITAL\n",
      "\n",
      "                     Opinion of the Court\n",
      "\n",
      "The jury instruction did not hew precisely to the rule we\n",
      "adopt today; it required only that the jury find that “mili\n",
      "tary status was a motivating factor in [Proctor’s] decision\n",
      "to discharge him.” App. 68a. Whether the variance be\n",
      "tween the instruction and our rule was harmless error or\n",
      "should mandate a new trial is a matter the Seventh Cir\n",
      "cuit may consider in the first instance.\n",
      "                     *    *     *\n",
      "  The judgment of the Seventh Circuit is reversed, and\n",
      "the case is remanded for further proceedings consistent\n",
      "with this opinion.\n",
      "                                        It is so ordered.\n",
      "\n",
      "  JUSTICE KAGAN took no part in the consideration or\n",
      "decision of this case.\n",
      "                 Cite as: 562 U. S. ____ (2011)           1\n",
      "\n",
      "                ALITO, J., concurring in judgment\n",
      "\n",
      "SUPREME COURT OF THE UNITED STATES\n",
      "                          _________________\n",
      "\n",
      "                          No. 09–400\n",
      "                          _________________\n",
      "\n",
      "\n",
      "    VINCENT E. STAUB, PETITIONER v. PROCTOR \n",
      "\n",
      "                   HOSPITAL\n",
      "\n",
      " ON WRIT OF CERTIORARI TO THE UNITED STATES COURT OF \n",
      "\n",
      "           APPEALS FOR THE SEVENTH CIRCUIT\n",
      "\n",
      "                        [March 1, 2011] \n",
      "\n",
      "\n",
      "  JUSTICE ALITO, with whom JUSTICE THOMAS joins,\n",
      "concurring in the judgment.\n"
     ]
    }
   ],
   "source": [
    "import random\n",
    "print(rbg_scalia.text[100])"
   ]
  },
  {
   "cell_type": "code",
   "execution_count": 52,
   "metadata": {},
   "outputs": [
    {
     "data": {
      "text/html": [
       "<div>\n",
       "<style scoped>\n",
       "    .dataframe tbody tr th:only-of-type {\n",
       "        vertical-align: middle;\n",
       "    }\n",
       "\n",
       "    .dataframe tbody tr th {\n",
       "        vertical-align: top;\n",
       "    }\n",
       "\n",
       "    .dataframe thead th {\n",
       "        text-align: right;\n",
       "    }\n",
       "</style>\n",
       "<table border=\"1\" class=\"dataframe\">\n",
       "  <thead>\n",
       "    <tr style=\"text-align: right;\">\n",
       "      <th></th>\n",
       "      <th>author_name</th>\n",
       "      <th>category</th>\n",
       "      <th>per_curiam</th>\n",
       "      <th>case_name</th>\n",
       "      <th>date_filed</th>\n",
       "      <th>federal_cite_one</th>\n",
       "      <th>absolute_url</th>\n",
       "      <th>cluster</th>\n",
       "      <th>year_filed</th>\n",
       "      <th>scdb_id</th>\n",
       "      <th>scdb_decision_direction</th>\n",
       "      <th>scdb_votes_majority</th>\n",
       "      <th>scdb_votes_minority</th>\n",
       "      <th>text</th>\n",
       "      <th>num_words</th>\n",
       "      <th>author</th>\n",
       "    </tr>\n",
       "  </thead>\n",
       "  <tbody>\n",
       "    <tr>\n",
       "      <th>0</th>\n",
       "      <td>Justice Ginsburg</td>\n",
       "      <td>dissenting</td>\n",
       "      <td>False</td>\n",
       "      <td>Masterpiece Cakeshop, Ltd. v. Colorado Civil R...</td>\n",
       "      <td>2018-06-13</td>\n",
       "      <td>NaN</td>\n",
       "      <td>https://www.courtlistener.com/opinion/4507882/...</td>\n",
       "      <td>https://www.courtlistener.com/api/rest/v3/clus...</td>\n",
       "      <td>2018</td>\n",
       "      <td>NaN</td>\n",
       "      <td>NaN</td>\n",
       "      <td>NaN</td>\n",
       "      <td>NaN</td>\n",
       "      <td>There is much in the Court’s opinion with whic...</td>\n",
       "      <td>2527</td>\n",
       "      <td>True</td>\n",
       "    </tr>\n",
       "    <tr>\n",
       "      <th>1</th>\n",
       "      <td>Justice Scalia</td>\n",
       "      <td>majority</td>\n",
       "      <td>False</td>\n",
       "      <td>Oncale v. Sundowner Offshore Services, Inc.</td>\n",
       "      <td>1998-03-04</td>\n",
       "      <td>NaN</td>\n",
       "      <td>https://www.courtlistener.com/opinion/118181/o...</td>\n",
       "      <td>https://www.courtlistener.com/api/rest/v3/clus...</td>\n",
       "      <td>1998</td>\n",
       "      <td>1997-037</td>\n",
       "      <td>2.0</td>\n",
       "      <td>9.0</td>\n",
       "      <td>0.0</td>\n",
       "      <td>This case presents the question whether workpl...</td>\n",
       "      <td>1854</td>\n",
       "      <td>False</td>\n",
       "    </tr>\n",
       "    <tr>\n",
       "      <th>2</th>\n",
       "      <td>Justice Scalia</td>\n",
       "      <td>majority</td>\n",
       "      <td>False</td>\n",
       "      <td>Summers v. Earth Island Institute</td>\n",
       "      <td>2009-03-03</td>\n",
       "      <td>NaN</td>\n",
       "      <td>https://www.courtlistener.com/opinion/145904/s...</td>\n",
       "      <td>https://www.courtlistener.com/api/rest/v3/clus...</td>\n",
       "      <td>2009</td>\n",
       "      <td>2008-027</td>\n",
       "      <td>1.0</td>\n",
       "      <td>5.0</td>\n",
       "      <td>4.0</td>\n",
       "      <td>Respondents are a group of organizations dedic...</td>\n",
       "      <td>3634</td>\n",
       "      <td>False</td>\n",
       "    </tr>\n",
       "    <tr>\n",
       "      <th>3</th>\n",
       "      <td>Justice Scalia</td>\n",
       "      <td>majority</td>\n",
       "      <td>False</td>\n",
       "      <td>Budinich v. Becton Dickinson &amp; Co.</td>\n",
       "      <td>1988-05-23</td>\n",
       "      <td>NaN</td>\n",
       "      <td>https://www.courtlistener.com/opinion/112076/b...</td>\n",
       "      <td>https://www.courtlistener.com/api/rest/v3/clus...</td>\n",
       "      <td>1988</td>\n",
       "      <td>1987-088</td>\n",
       "      <td>2.0</td>\n",
       "      <td>9.0</td>\n",
       "      <td>0.0</td>\n",
       "      <td>Petitioner brought this action in Colorado sta...</td>\n",
       "      <td>2134</td>\n",
       "      <td>False</td>\n",
       "    </tr>\n",
       "    <tr>\n",
       "      <th>4</th>\n",
       "      <td>Justice Scalia</td>\n",
       "      <td>majority</td>\n",
       "      <td>False</td>\n",
       "      <td>Reiter v. Cooper</td>\n",
       "      <td>1993-03-08</td>\n",
       "      <td>NaN</td>\n",
       "      <td>https://www.courtlistener.com/opinion/112830/r...</td>\n",
       "      <td>https://www.courtlistener.com/api/rest/v3/clus...</td>\n",
       "      <td>1993</td>\n",
       "      <td>1992-041</td>\n",
       "      <td>2.0</td>\n",
       "      <td>8.0</td>\n",
       "      <td>1.0</td>\n",
       "      <td>This case presents the question whether, when ...</td>\n",
       "      <td>3230</td>\n",
       "      <td>False</td>\n",
       "    </tr>\n",
       "  </tbody>\n",
       "</table>\n",
       "</div>"
      ],
      "text/plain": [
       "        author_name    category  per_curiam  \\\n",
       "0  Justice Ginsburg  dissenting       False   \n",
       "1    Justice Scalia    majority       False   \n",
       "2    Justice Scalia    majority       False   \n",
       "3    Justice Scalia    majority       False   \n",
       "4    Justice Scalia    majority       False   \n",
       "\n",
       "                                           case_name  date_filed  \\\n",
       "0  Masterpiece Cakeshop, Ltd. v. Colorado Civil R...  2018-06-13   \n",
       "1        Oncale v. Sundowner Offshore Services, Inc.  1998-03-04   \n",
       "2                  Summers v. Earth Island Institute  2009-03-03   \n",
       "3                 Budinich v. Becton Dickinson & Co.  1988-05-23   \n",
       "4                                   Reiter v. Cooper  1993-03-08   \n",
       "\n",
       "  federal_cite_one                                       absolute_url  \\\n",
       "0              NaN  https://www.courtlistener.com/opinion/4507882/...   \n",
       "1              NaN  https://www.courtlistener.com/opinion/118181/o...   \n",
       "2              NaN  https://www.courtlistener.com/opinion/145904/s...   \n",
       "3              NaN  https://www.courtlistener.com/opinion/112076/b...   \n",
       "4              NaN  https://www.courtlistener.com/opinion/112830/r...   \n",
       "\n",
       "                                             cluster  year_filed   scdb_id  \\\n",
       "0  https://www.courtlistener.com/api/rest/v3/clus...        2018       NaN   \n",
       "1  https://www.courtlistener.com/api/rest/v3/clus...        1998  1997-037   \n",
       "2  https://www.courtlistener.com/api/rest/v3/clus...        2009  2008-027   \n",
       "3  https://www.courtlistener.com/api/rest/v3/clus...        1988  1987-088   \n",
       "4  https://www.courtlistener.com/api/rest/v3/clus...        1993  1992-041   \n",
       "\n",
       "   scdb_decision_direction  scdb_votes_majority  scdb_votes_minority  \\\n",
       "0                      NaN                  NaN                  NaN   \n",
       "1                      2.0                  9.0                  0.0   \n",
       "2                      1.0                  5.0                  4.0   \n",
       "3                      2.0                  9.0                  0.0   \n",
       "4                      2.0                  8.0                  1.0   \n",
       "\n",
       "                                                text  num_words  author  \n",
       "0  There is much in the Court’s opinion with whic...       2527    True  \n",
       "1  This case presents the question whether workpl...       1854   False  \n",
       "2  Respondents are a group of organizations dedic...       3634   False  \n",
       "3  Petitioner brought this action in Colorado sta...       2134   False  \n",
       "4  This case presents the question whether, when ...       3230   False  "
      ]
     },
     "execution_count": 52,
     "metadata": {},
     "output_type": "execute_result"
    }
   ],
   "source": [
    "rbg_scalia.head()"
   ]
  },
  {
   "cell_type": "code",
   "execution_count": null,
   "metadata": {},
   "outputs": [],
   "source": []
  }
 ],
 "metadata": {
  "kernelspec": {
   "display_name": "Python 3 (ipykernel)",
   "language": "python",
   "name": "python3"
  },
  "language_info": {
   "codemirror_mode": {
    "name": "ipython",
    "version": 3
   },
   "file_extension": ".py",
   "mimetype": "text/x-python",
   "name": "python",
   "nbconvert_exporter": "python",
   "pygments_lexer": "ipython3",
   "version": "3.7.11"
  }
 },
 "nbformat": 4,
 "nbformat_minor": 4
}
