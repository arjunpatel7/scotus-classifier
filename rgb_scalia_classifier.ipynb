{
 "cells": [
  {
   "cell_type": "code",
   "execution_count": 31,
   "metadata": {},
   "outputs": [],
   "source": [
    "import pandas as pd\n",
    "import numpy as np\n",
    "\n",
    "import plotly.express as px\n",
    "\n",
    "\n",
    "opinions = pd.read_csv(\"all_opinions.csv\")"
   ]
  },
  {
   "cell_type": "code",
   "execution_count": 35,
   "metadata": {},
   "outputs": [],
   "source": [
    "rbg_scalia= opinions[(opinions[\"author_name\"] == \"Justice Ginsburg\") |\n",
    "                  (opinions[\"author_name\"] == \"Justice Scalia\")].reset_index(drop = True)"
   ]
  },
  {
   "cell_type": "code",
   "execution_count": 40,
   "metadata": {},
   "outputs": [],
   "source": [
    "rbg_scalia[\"num_words\"] = rbg_scalia.text.apply(lambda x: len(x.split()))"
   ]
  },
  {
   "cell_type": "code",
   "execution_count": 42,
   "metadata": {},
   "outputs": [
    {
     "data": {
      "application/vnd.plotly.v1+json": {
       "config": {
        "plotlyServerURL": "https://plot.ly"
       },
       "data": [
        {
         "alignmentgroup": "True",
         "bingroup": "x",
         "hovertemplate": "author_name=Justice Ginsburg<br>num_words=%{x}<br>count=%{y}<extra></extra>",
         "legendgroup": "Justice Ginsburg",
         "marker": {
          "color": "#636efa"
         },
         "name": "Justice Ginsburg",
         "offsetgroup": "Justice Ginsburg",
         "orientation": "v",
         "showlegend": true,
         "type": "histogram",
         "x": [
          2527,
          5415,
          6119,
          1549,
          5143,
          8861,
          2553,
          3193,
          594,
          4200,
          2442,
          711,
          2527,
          4709,
          2724,
          4850,
          1442,
          4887,
          4307,
          6255,
          3952,
          10415,
          56,
          4159,
          12621,
          13175,
          3048,
          4911,
          1059,
          9735,
          3356,
          2655,
          4504,
          3830,
          136,
          5439,
          4698,
          3255,
          5426,
          2569,
          1517,
          7533,
          1173,
          3514,
          7150,
          4764,
          4736,
          1348,
          3125,
          2607,
          3184,
          1059,
          286,
          4581,
          5305,
          229,
          2626,
          3050,
          2445,
          3394,
          17309,
          905,
          1686,
          4469,
          8308,
          3162,
          4665,
          5457,
          3534,
          430,
          5743,
          99,
          4774,
          2046,
          816,
          5753,
          2662,
          499,
          5262,
          5115,
          2783,
          2907,
          2892,
          4202,
          13175,
          4711,
          5240,
          14264,
          6896,
          494,
          262,
          3406,
          470,
          3483,
          3768,
          2729,
          4816,
          13175,
          4611,
          3378,
          1522,
          5124,
          4200,
          2971,
          234,
          2638,
          6556,
          3893,
          1668,
          11523,
          1578,
          6622,
          3202,
          3967,
          4516,
          1779,
          3998,
          5022,
          4497,
          9505,
          3340,
          9359,
          2914,
          5070,
          3410,
          2728,
          411,
          3391,
          3997,
          181,
          3871,
          3118,
          3747,
          2009,
          2356,
          11310,
          6569,
          3531,
          3953,
          2992,
          259,
          238,
          4691,
          1626,
          588,
          4445,
          98,
          3471,
          4791,
          17092,
          4275,
          3979,
          3382,
          192,
          2284,
          3685,
          1469,
          2029,
          10026,
          3746,
          3591,
          9217,
          425,
          7242,
          3487,
          162,
          6808,
          3194,
          5646,
          1626,
          3397,
          2105,
          6071,
          4200,
          3526,
          226,
          1345,
          4509,
          6570,
          11522,
          2023,
          5448,
          4898,
          11046,
          1098,
          6550,
          4659,
          3459,
          4659,
          5238,
          2547,
          600,
          411,
          2045,
          271,
          3163,
          2945,
          3211,
          5525,
          4708,
          6011,
          1909,
          10415,
          3483,
          1099,
          286,
          877,
          3166,
          5147,
          5611,
          3688,
          4019,
          188,
          273,
          2041,
          4775,
          1973,
          4844,
          40,
          936,
          221,
          2644,
          10862,
          1583,
          3894,
          10913,
          2921,
          7550,
          2852,
          3630,
          1858,
          522,
          2812,
          5799,
          3604,
          159,
          3732,
          5411,
          3177,
          4381,
          2615,
          3853,
          6164,
          8522,
          2989,
          2072,
          2195,
          4350,
          9969,
          828,
          134,
          2281,
          4433,
          8252,
          2639,
          283,
          9738,
          138,
          3223,
          346,
          1410,
          4855,
          470,
          292,
          9741,
          3812,
          5547,
          3021,
          13022,
          260,
          4424,
          1143,
          534,
          698,
          176,
          2911,
          134,
          2242,
          12444,
          6919,
          5304,
          8062,
          411,
          3058,
          5607,
          6615,
          3066,
          437,
          2527,
          5649,
          4431,
          357,
          2806,
          2679,
          4706,
          6152,
          2316,
          4377,
          3389,
          4481,
          1486,
          1189,
          1453,
          2533,
          3235,
          72,
          3912,
          10557,
          1086,
          4081,
          6267,
          4363,
          4108,
          633,
          5376,
          339,
          2864,
          6888,
          3846,
          9475,
          1699,
          286,
          282,
          2653,
          1836,
          2585,
          6152,
          3926,
          2423,
          376,
          6202,
          4394,
          94,
          2798,
          148,
          4203,
          5530,
          470,
          6111,
          10274,
          5419,
          1811,
          427,
          1575,
          1322,
          2496,
          7533,
          4068,
          141,
          5235,
          5635,
          2673,
          7568,
          3708,
          4494,
          2052,
          3023,
          4807,
          2994,
          651,
          3611,
          4118,
          3286,
          2204,
          539,
          618,
          9259,
          2941,
          1793,
          4439,
          453,
          198,
          4031,
          127,
          6114,
          3006,
          1096,
          3209,
          60,
          4085,
          3263,
          54,
          11055,
          5366,
          2527,
          288,
          3507,
          3861,
          7818,
          2611,
          168,
          4466,
          2579,
          4976,
          3290,
          4357,
          1111,
          4508,
          5511,
          4783,
          4291,
          4125,
          7385,
          1002,
          105,
          3072,
          5870
         ],
         "xaxis": "x",
         "yaxis": "y"
        },
        {
         "alignmentgroup": "True",
         "bingroup": "x",
         "hovertemplate": "author_name=Justice Scalia<br>num_words=%{x}<br>count=%{y}<extra></extra>",
         "legendgroup": "Justice Scalia",
         "marker": {
          "color": "#EF553B"
         },
         "name": "Justice Scalia",
         "offsetgroup": "Justice Scalia",
         "orientation": "v",
         "showlegend": true,
         "type": "histogram",
         "x": [
          1854,
          3634,
          2134,
          3230,
          573,
          2583,
          3261,
          68,
          1590,
          1874,
          813,
          4323,
          711,
          9450,
          161,
          2035,
          2172,
          2990,
          195,
          3609,
          2003,
          6612,
          903,
          12290,
          301,
          4772,
          2609,
          4157,
          2474,
          4661,
          6595,
          1015,
          1219,
          157,
          2521,
          98,
          137,
          5558,
          992,
          4542,
          1194,
          5377,
          829,
          292,
          2526,
          2576,
          10294,
          4486,
          750,
          11852,
          2897,
          117,
          8648,
          2597,
          2695,
          394,
          1277,
          3672,
          1990,
          6793,
          5902,
          4311,
          5195,
          4289,
          5602,
          347,
          2705,
          1077,
          2416,
          2111,
          1888,
          2629,
          3147,
          3522,
          2242,
          5003,
          883,
          12289,
          1629,
          4910,
          4506,
          4519,
          5690,
          6641,
          18069,
          2706,
          2364,
          5691,
          1477,
          3673,
          282,
          3409,
          226,
          5508,
          1881,
          1742,
          443,
          1411,
          1827,
          1485,
          2344,
          2402,
          2333,
          2815,
          2306,
          98,
          5453,
          864,
          193,
          321,
          5598,
          799,
          579,
          2298,
          2888,
          2752,
          8359,
          185,
          4153,
          6832,
          41,
          3632,
          1869,
          2112,
          744,
          3650,
          3255,
          4837,
          3347,
          69,
          3391,
          1133,
          3644,
          3797,
          2898,
          496,
          1438,
          3620,
          7977,
          7153,
          2817,
          2127,
          4118,
          1581,
          2172,
          2108,
          3287,
          728,
          5683,
          2615,
          1933,
          4574,
          4478,
          3116,
          401,
          1390,
          4118,
          2905,
          4213,
          3910,
          2903,
          2747,
          2094,
          334,
          4229,
          4472,
          3712,
          4463,
          12081,
          2973,
          4731,
          188,
          2752,
          6527,
          2546,
          2323,
          2212,
          4901,
          2874,
          1836,
          3251,
          3059,
          374,
          3724,
          1178,
          2970,
          212,
          3164,
          6425,
          2101,
          1559,
          45,
          5459,
          5627,
          857,
          5840,
          630,
          3242,
          2420,
          2764,
          3460,
          7662,
          4867,
          2247,
          3242,
          365,
          8712,
          371,
          2326,
          88,
          987,
          5963,
          2034,
          1058,
          2950,
          2857,
          437,
          3742,
          8659,
          1625,
          335,
          4975,
          6181,
          2055,
          1578,
          4156,
          2297,
          2974,
          7115,
          3582,
          4006,
          1363,
          4644,
          7322,
          12290,
          349,
          7432,
          222,
          1000,
          3425,
          159,
          3528,
          289,
          1530,
          18063,
          3916,
          2468,
          2760,
          4616,
          136,
          1778,
          3045,
          3261,
          4196,
          10846,
          1297,
          80,
          3543,
          1877,
          2979,
          2079,
          2042,
          5084,
          107,
          316,
          6043,
          9038,
          3447,
          3550,
          4868,
          4275,
          220,
          257,
          3108,
          4290,
          6493,
          454,
          20073,
          5014,
          2547,
          4312,
          8283,
          2902,
          5131,
          1636,
          3207,
          4393,
          741,
          3110,
          1148,
          1080,
          182,
          2508,
          3855,
          10227,
          4012,
          2291,
          2905,
          201,
          3564,
          2247,
          2978,
          2174,
          318,
          2455,
          3262,
          5162,
          3078,
          2953,
          3489,
          9721,
          457,
          424,
          270,
          1697,
          3089,
          4688,
          5570,
          3628,
          5811,
          4326,
          4398,
          3134,
          1346,
          3097,
          16659,
          817,
          4181,
          6876,
          2646,
          1854,
          9953,
          460,
          5945,
          5298,
          2991,
          3564,
          230,
          6601,
          1517,
          250,
          2252,
          1921,
          900,
          2707,
          5269,
          2100,
          1888,
          665,
          1301,
          1726,
          8470,
          794,
          2902,
          5612,
          2880,
          3750,
          14085,
          1497,
          4298,
          3084,
          8283,
          1572,
          4293,
          4753,
          3120,
          7229,
          3886,
          4890,
          6287,
          1381,
          1105,
          3271,
          1047,
          6062,
          732,
          2318,
          272,
          7919,
          5003,
          4506,
          988,
          2269,
          2172,
          2353,
          4766,
          1428,
          23488,
          3577,
          4644,
          1900,
          9761,
          4489,
          4309,
          3177,
          2261,
          2894,
          5334,
          1057,
          705,
          4270,
          3390,
          4694,
          3642,
          5034,
          1597,
          3456,
          3675,
          51,
          6698,
          4388,
          2919,
          7258,
          1121,
          1122,
          334,
          15759,
          8283,
          3348,
          2462,
          7681,
          5003,
          175,
          4935,
          6108,
          6004,
          2935,
          388,
          2661,
          501,
          1546,
          4280,
          3704,
          1413,
          1111,
          6191,
          621,
          3164,
          7233,
          4949,
          1214,
          1446,
          6166,
          6108,
          2257,
          2616,
          1620,
          3644,
          1741,
          6668,
          4046,
          1788,
          281,
          576,
          6577,
          3741,
          2040,
          1990,
          608,
          720,
          5009,
          2561,
          1169,
          2198,
          274,
          3977,
          4824,
          2641,
          3348,
          7405,
          96,
          5000,
          3208,
          2101,
          1131,
          7798,
          1446,
          128,
          3123,
          1181,
          3380,
          4870,
          1560,
          3626,
          6186,
          1037,
          5205,
          1938,
          3372,
          3408,
          5432,
          684,
          890,
          7171,
          3289,
          17712,
          5391,
          731,
          11223,
          7150,
          3552,
          422,
          3822,
          4298,
          2605,
          2757,
          4875,
          4287,
          6232,
          5476,
          2065,
          357,
          1404,
          190,
          6014,
          4333,
          161,
          8281,
          5841,
          1656,
          2187,
          4079,
          418,
          2082,
          2994,
          781,
          3943,
          3669,
          1052,
          684,
          4497,
          14082,
          3495,
          2094,
          4804,
          116,
          5589,
          1933,
          205,
          5349,
          7388,
          4165,
          2279,
          415,
          4399,
          9649,
          3950,
          2697,
          3834,
          8126,
          2157,
          3419,
          2832,
          3290,
          1099,
          3703,
          3882,
          6007,
          1926,
          1981,
          4375,
          3121,
          1229,
          3510,
          2251,
          1663,
          2543,
          3328,
          4622,
          2724,
          1632,
          3260,
          4627,
          499,
          2215,
          256,
          410,
          4399,
          2419,
          2224,
          5954,
          1995,
          2069,
          3621,
          5172,
          54,
          1330,
          2416,
          158,
          1598,
          3751,
          3942,
          824,
          4875,
          2315,
          91,
          2034,
          4033,
          318,
          1540,
          214,
          1284,
          2434,
          2931,
          2313,
          5269,
          4627,
          2793,
          2654,
          347,
          4949,
          2751,
          5911,
          6957,
          720,
          1441,
          2410,
          4408,
          4265,
          2750,
          2058,
          2623,
          4725,
          640,
          4644,
          2213,
          30,
          3644,
          3095,
          1074,
          2769,
          2567,
          7143,
          55,
          725,
          5691,
          5218,
          4604,
          9128,
          1915,
          273,
          2958,
          1370,
          3412,
          235,
          6412,
          298,
          196,
          1771,
          201,
          1858,
          2748,
          861,
          2902,
          679,
          2624,
          4156,
          4635,
          2279,
          3444,
          3210,
          3793,
          466,
          4891,
          4354,
          2520,
          4877,
          390,
          327,
          2820,
          8016,
          4466,
          390,
          6109,
          3051,
          3581,
          721,
          170,
          1648,
          1338,
          5870,
          98,
          1226,
          2541,
          103,
          2210,
          6214,
          771,
          1990,
          568,
          2833,
          4112,
          2002,
          1348,
          2379,
          2471,
          3268,
          3289,
          6522,
          2674,
          316,
          2261,
          3652,
          1428,
          1258,
          2584,
          98,
          3090,
          3416,
          5449,
          3359,
          1794,
          4497,
          5615,
          524,
          699,
          2005,
          2120
         ],
         "xaxis": "x",
         "yaxis": "y"
        }
       ],
       "layout": {
        "autosize": true,
        "barmode": "relative",
        "legend": {
         "title": {
          "text": "author_name"
         },
         "tracegroupgap": 0
        },
        "margin": {
         "t": 60
        },
        "template": {
         "data": {
          "bar": [
           {
            "error_x": {
             "color": "#2a3f5f"
            },
            "error_y": {
             "color": "#2a3f5f"
            },
            "marker": {
             "line": {
              "color": "#E5ECF6",
              "width": 0.5
             }
            },
            "type": "bar"
           }
          ],
          "barpolar": [
           {
            "marker": {
             "line": {
              "color": "#E5ECF6",
              "width": 0.5
             }
            },
            "type": "barpolar"
           }
          ],
          "carpet": [
           {
            "aaxis": {
             "endlinecolor": "#2a3f5f",
             "gridcolor": "white",
             "linecolor": "white",
             "minorgridcolor": "white",
             "startlinecolor": "#2a3f5f"
            },
            "baxis": {
             "endlinecolor": "#2a3f5f",
             "gridcolor": "white",
             "linecolor": "white",
             "minorgridcolor": "white",
             "startlinecolor": "#2a3f5f"
            },
            "type": "carpet"
           }
          ],
          "choropleth": [
           {
            "colorbar": {
             "outlinewidth": 0,
             "ticks": ""
            },
            "type": "choropleth"
           }
          ],
          "contour": [
           {
            "colorbar": {
             "outlinewidth": 0,
             "ticks": ""
            },
            "colorscale": [
             [
              0,
              "#0d0887"
             ],
             [
              0.1111111111111111,
              "#46039f"
             ],
             [
              0.2222222222222222,
              "#7201a8"
             ],
             [
              0.3333333333333333,
              "#9c179e"
             ],
             [
              0.4444444444444444,
              "#bd3786"
             ],
             [
              0.5555555555555556,
              "#d8576b"
             ],
             [
              0.6666666666666666,
              "#ed7953"
             ],
             [
              0.7777777777777778,
              "#fb9f3a"
             ],
             [
              0.8888888888888888,
              "#fdca26"
             ],
             [
              1,
              "#f0f921"
             ]
            ],
            "type": "contour"
           }
          ],
          "contourcarpet": [
           {
            "colorbar": {
             "outlinewidth": 0,
             "ticks": ""
            },
            "type": "contourcarpet"
           }
          ],
          "heatmap": [
           {
            "colorbar": {
             "outlinewidth": 0,
             "ticks": ""
            },
            "colorscale": [
             [
              0,
              "#0d0887"
             ],
             [
              0.1111111111111111,
              "#46039f"
             ],
             [
              0.2222222222222222,
              "#7201a8"
             ],
             [
              0.3333333333333333,
              "#9c179e"
             ],
             [
              0.4444444444444444,
              "#bd3786"
             ],
             [
              0.5555555555555556,
              "#d8576b"
             ],
             [
              0.6666666666666666,
              "#ed7953"
             ],
             [
              0.7777777777777778,
              "#fb9f3a"
             ],
             [
              0.8888888888888888,
              "#fdca26"
             ],
             [
              1,
              "#f0f921"
             ]
            ],
            "type": "heatmap"
           }
          ],
          "heatmapgl": [
           {
            "colorbar": {
             "outlinewidth": 0,
             "ticks": ""
            },
            "colorscale": [
             [
              0,
              "#0d0887"
             ],
             [
              0.1111111111111111,
              "#46039f"
             ],
             [
              0.2222222222222222,
              "#7201a8"
             ],
             [
              0.3333333333333333,
              "#9c179e"
             ],
             [
              0.4444444444444444,
              "#bd3786"
             ],
             [
              0.5555555555555556,
              "#d8576b"
             ],
             [
              0.6666666666666666,
              "#ed7953"
             ],
             [
              0.7777777777777778,
              "#fb9f3a"
             ],
             [
              0.8888888888888888,
              "#fdca26"
             ],
             [
              1,
              "#f0f921"
             ]
            ],
            "type": "heatmapgl"
           }
          ],
          "histogram": [
           {
            "marker": {
             "colorbar": {
              "outlinewidth": 0,
              "ticks": ""
             }
            },
            "type": "histogram"
           }
          ],
          "histogram2d": [
           {
            "colorbar": {
             "outlinewidth": 0,
             "ticks": ""
            },
            "colorscale": [
             [
              0,
              "#0d0887"
             ],
             [
              0.1111111111111111,
              "#46039f"
             ],
             [
              0.2222222222222222,
              "#7201a8"
             ],
             [
              0.3333333333333333,
              "#9c179e"
             ],
             [
              0.4444444444444444,
              "#bd3786"
             ],
             [
              0.5555555555555556,
              "#d8576b"
             ],
             [
              0.6666666666666666,
              "#ed7953"
             ],
             [
              0.7777777777777778,
              "#fb9f3a"
             ],
             [
              0.8888888888888888,
              "#fdca26"
             ],
             [
              1,
              "#f0f921"
             ]
            ],
            "type": "histogram2d"
           }
          ],
          "histogram2dcontour": [
           {
            "colorbar": {
             "outlinewidth": 0,
             "ticks": ""
            },
            "colorscale": [
             [
              0,
              "#0d0887"
             ],
             [
              0.1111111111111111,
              "#46039f"
             ],
             [
              0.2222222222222222,
              "#7201a8"
             ],
             [
              0.3333333333333333,
              "#9c179e"
             ],
             [
              0.4444444444444444,
              "#bd3786"
             ],
             [
              0.5555555555555556,
              "#d8576b"
             ],
             [
              0.6666666666666666,
              "#ed7953"
             ],
             [
              0.7777777777777778,
              "#fb9f3a"
             ],
             [
              0.8888888888888888,
              "#fdca26"
             ],
             [
              1,
              "#f0f921"
             ]
            ],
            "type": "histogram2dcontour"
           }
          ],
          "mesh3d": [
           {
            "colorbar": {
             "outlinewidth": 0,
             "ticks": ""
            },
            "type": "mesh3d"
           }
          ],
          "parcoords": [
           {
            "line": {
             "colorbar": {
              "outlinewidth": 0,
              "ticks": ""
             }
            },
            "type": "parcoords"
           }
          ],
          "pie": [
           {
            "automargin": true,
            "type": "pie"
           }
          ],
          "scatter": [
           {
            "marker": {
             "colorbar": {
              "outlinewidth": 0,
              "ticks": ""
             }
            },
            "type": "scatter"
           }
          ],
          "scatter3d": [
           {
            "line": {
             "colorbar": {
              "outlinewidth": 0,
              "ticks": ""
             }
            },
            "marker": {
             "colorbar": {
              "outlinewidth": 0,
              "ticks": ""
             }
            },
            "type": "scatter3d"
           }
          ],
          "scattercarpet": [
           {
            "marker": {
             "colorbar": {
              "outlinewidth": 0,
              "ticks": ""
             }
            },
            "type": "scattercarpet"
           }
          ],
          "scattergeo": [
           {
            "marker": {
             "colorbar": {
              "outlinewidth": 0,
              "ticks": ""
             }
            },
            "type": "scattergeo"
           }
          ],
          "scattergl": [
           {
            "marker": {
             "colorbar": {
              "outlinewidth": 0,
              "ticks": ""
             }
            },
            "type": "scattergl"
           }
          ],
          "scattermapbox": [
           {
            "marker": {
             "colorbar": {
              "outlinewidth": 0,
              "ticks": ""
             }
            },
            "type": "scattermapbox"
           }
          ],
          "scatterpolar": [
           {
            "marker": {
             "colorbar": {
              "outlinewidth": 0,
              "ticks": ""
             }
            },
            "type": "scatterpolar"
           }
          ],
          "scatterpolargl": [
           {
            "marker": {
             "colorbar": {
              "outlinewidth": 0,
              "ticks": ""
             }
            },
            "type": "scatterpolargl"
           }
          ],
          "scatterternary": [
           {
            "marker": {
             "colorbar": {
              "outlinewidth": 0,
              "ticks": ""
             }
            },
            "type": "scatterternary"
           }
          ],
          "surface": [
           {
            "colorbar": {
             "outlinewidth": 0,
             "ticks": ""
            },
            "colorscale": [
             [
              0,
              "#0d0887"
             ],
             [
              0.1111111111111111,
              "#46039f"
             ],
             [
              0.2222222222222222,
              "#7201a8"
             ],
             [
              0.3333333333333333,
              "#9c179e"
             ],
             [
              0.4444444444444444,
              "#bd3786"
             ],
             [
              0.5555555555555556,
              "#d8576b"
             ],
             [
              0.6666666666666666,
              "#ed7953"
             ],
             [
              0.7777777777777778,
              "#fb9f3a"
             ],
             [
              0.8888888888888888,
              "#fdca26"
             ],
             [
              1,
              "#f0f921"
             ]
            ],
            "type": "surface"
           }
          ],
          "table": [
           {
            "cells": {
             "fill": {
              "color": "#EBF0F8"
             },
             "line": {
              "color": "white"
             }
            },
            "header": {
             "fill": {
              "color": "#C8D4E3"
             },
             "line": {
              "color": "white"
             }
            },
            "type": "table"
           }
          ]
         },
         "layout": {
          "annotationdefaults": {
           "arrowcolor": "#2a3f5f",
           "arrowhead": 0,
           "arrowwidth": 1
          },
          "autotypenumbers": "strict",
          "coloraxis": {
           "colorbar": {
            "outlinewidth": 0,
            "ticks": ""
           }
          },
          "colorscale": {
           "diverging": [
            [
             0,
             "#8e0152"
            ],
            [
             0.1,
             "#c51b7d"
            ],
            [
             0.2,
             "#de77ae"
            ],
            [
             0.3,
             "#f1b6da"
            ],
            [
             0.4,
             "#fde0ef"
            ],
            [
             0.5,
             "#f7f7f7"
            ],
            [
             0.6,
             "#e6f5d0"
            ],
            [
             0.7,
             "#b8e186"
            ],
            [
             0.8,
             "#7fbc41"
            ],
            [
             0.9,
             "#4d9221"
            ],
            [
             1,
             "#276419"
            ]
           ],
           "sequential": [
            [
             0,
             "#0d0887"
            ],
            [
             0.1111111111111111,
             "#46039f"
            ],
            [
             0.2222222222222222,
             "#7201a8"
            ],
            [
             0.3333333333333333,
             "#9c179e"
            ],
            [
             0.4444444444444444,
             "#bd3786"
            ],
            [
             0.5555555555555556,
             "#d8576b"
            ],
            [
             0.6666666666666666,
             "#ed7953"
            ],
            [
             0.7777777777777778,
             "#fb9f3a"
            ],
            [
             0.8888888888888888,
             "#fdca26"
            ],
            [
             1,
             "#f0f921"
            ]
           ],
           "sequentialminus": [
            [
             0,
             "#0d0887"
            ],
            [
             0.1111111111111111,
             "#46039f"
            ],
            [
             0.2222222222222222,
             "#7201a8"
            ],
            [
             0.3333333333333333,
             "#9c179e"
            ],
            [
             0.4444444444444444,
             "#bd3786"
            ],
            [
             0.5555555555555556,
             "#d8576b"
            ],
            [
             0.6666666666666666,
             "#ed7953"
            ],
            [
             0.7777777777777778,
             "#fb9f3a"
            ],
            [
             0.8888888888888888,
             "#fdca26"
            ],
            [
             1,
             "#f0f921"
            ]
           ]
          },
          "colorway": [
           "#636efa",
           "#EF553B",
           "#00cc96",
           "#ab63fa",
           "#FFA15A",
           "#19d3f3",
           "#FF6692",
           "#B6E880",
           "#FF97FF",
           "#FECB52"
          ],
          "font": {
           "color": "#2a3f5f"
          },
          "geo": {
           "bgcolor": "white",
           "lakecolor": "white",
           "landcolor": "#E5ECF6",
           "showlakes": true,
           "showland": true,
           "subunitcolor": "white"
          },
          "hoverlabel": {
           "align": "left"
          },
          "hovermode": "closest",
          "mapbox": {
           "style": "light"
          },
          "paper_bgcolor": "white",
          "plot_bgcolor": "#E5ECF6",
          "polar": {
           "angularaxis": {
            "gridcolor": "white",
            "linecolor": "white",
            "ticks": ""
           },
           "bgcolor": "#E5ECF6",
           "radialaxis": {
            "gridcolor": "white",
            "linecolor": "white",
            "ticks": ""
           }
          },
          "scene": {
           "xaxis": {
            "backgroundcolor": "#E5ECF6",
            "gridcolor": "white",
            "gridwidth": 2,
            "linecolor": "white",
            "showbackground": true,
            "ticks": "",
            "zerolinecolor": "white"
           },
           "yaxis": {
            "backgroundcolor": "#E5ECF6",
            "gridcolor": "white",
            "gridwidth": 2,
            "linecolor": "white",
            "showbackground": true,
            "ticks": "",
            "zerolinecolor": "white"
           },
           "zaxis": {
            "backgroundcolor": "#E5ECF6",
            "gridcolor": "white",
            "gridwidth": 2,
            "linecolor": "white",
            "showbackground": true,
            "ticks": "",
            "zerolinecolor": "white"
           }
          },
          "shapedefaults": {
           "line": {
            "color": "#2a3f5f"
           }
          },
          "ternary": {
           "aaxis": {
            "gridcolor": "white",
            "linecolor": "white",
            "ticks": ""
           },
           "baxis": {
            "gridcolor": "white",
            "linecolor": "white",
            "ticks": ""
           },
           "bgcolor": "#E5ECF6",
           "caxis": {
            "gridcolor": "white",
            "linecolor": "white",
            "ticks": ""
           }
          },
          "title": {
           "x": 0.05
          },
          "xaxis": {
           "automargin": true,
           "gridcolor": "white",
           "linecolor": "white",
           "ticks": "",
           "title": {
            "standoff": 15
           },
           "zerolinecolor": "white",
           "zerolinewidth": 2
          },
          "yaxis": {
           "automargin": true,
           "gridcolor": "white",
           "linecolor": "white",
           "ticks": "",
           "title": {
            "standoff": 15
           },
           "zerolinecolor": "white",
           "zerolinewidth": 2
          }
         }
        },
        "xaxis": {
         "anchor": "y",
         "autorange": true,
         "domain": [
          0,
          1
         ],
         "range": [
          -0.5,
          23499.5
         ],
         "title": {
          "text": "num_words"
         },
         "type": "linear"
        },
        "yaxis": {
         "anchor": "x",
         "autorange": true,
         "domain": [
          0,
          1
         ],
         "range": [
          0,
          160
         ],
         "title": {
          "text": "count"
         }
        }
       }
      },
      "image/png": "[encoded data removed]",
      "text/html": [
       "<div>                            <div id=\"3ba9a230-a4f4-4f37-9342-52aa57707b0e\" class=\"plotly-graph-div\" style=\"height:525px; width:100%;\"></div>            <script type=\"text/javascript\">                require([\"plotly\"], function(Plotly) {                    window.PLOTLYENV=window.PLOTLYENV || {};                                    if (document.getElementById(\"3ba9a230-a4f4-4f37-9342-52aa57707b0e\")) {                    Plotly.newPlot(                        \"3ba9a230-a4f4-4f37-9342-52aa57707b0e\",                        [{\"alignmentgroup\": \"True\", \"bingroup\": \"x\", \"hovertemplate\": \"author_name=Justice Ginsburg<br>num_words=%{x}<br>count=%{y}<extra></extra>\", \"legendgroup\": \"Justice Ginsburg\", \"marker\": {\"color\": \"#636efa\"}, \"name\": \"Justice Ginsburg\", \"offsetgroup\": \"Justice Ginsburg\", \"orientation\": \"v\", \"showlegend\": true, \"type\": \"histogram\", \"x\": [2527, 5415, 6119, 1549, 5143, 8861, 2553, 3193, 594, 4200, 2442, 711, 2527, 4709, 2724, 4850, 1442, 4887, 4307, 6255, 3952, 10415, 56, 4159, 12621, 13175, 3048, 4911, 1059, 9735, 3356, 2655, 4504, 3830, 136, 5439, 4698, 3255, 5426, 2569, 1517, 7533, 1173, 3514, 7150, 4764, 4736, 1348, 3125, 2607, 3184, 1059, 286, 4581, 5305, 229, 2626, 3050, 2445, 3394, 17309, 905, 1686, 4469, 8308, 3162, 4665, 5457, 3534, 430, 5743, 99, 4774, 2046, 816, 5753, 2662, 499, 5262, 5115, 2783, 2907, 2892, 4202, 13175, 4711, 5240, 14264, 6896, 494, 262, 3406, 470, 3483, 3768, 2729, 4816, 13175, 4611, 3378, 1522, 5124, 4200, 2971, 234, 2638, 6556, 3893, 1668, 11523, 1578, 6622, 3202, 3967, 4516, 1779, 3998, 5022, 4497, 9505, 3340, 9359, 2914, 5070, 3410, 2728, 411, 3391, 3997, 181, 3871, 3118, 3747, 2009, 2356, 11310, 6569, 3531, 3953, 2992, 259, 238, 4691, 1626, 588, 4445, 98, 3471, 4791, 17092, 4275, 3979, 3382, 192, 2284, 3685, 1469, 2029, 10026, 3746, 3591, 9217, 425, 7242, 3487, 162, 6808, 3194, 5646, 1626, 3397, 2105, 6071, 4200, 3526, 226, 1345, 4509, 6570, 11522, 2023, 5448, 4898, 11046, 1098, 6550, 4659, 3459, 4659, 5238, 2547, 600, 411, 2045, 271, 3163, 2945, 3211, 5525, 4708, 6011, 1909, 10415, 3483, 1099, 286, 877, 3166, 5147, 5611, 3688, 4019, 188, 273, 2041, 4775, 1973, 4844, 40, 936, 221, 2644, 10862, 1583, 3894, 10913, 2921, 7550, 2852, 3630, 1858, 522, 2812, 5799, 3604, 159, 3732, 5411, 3177, 4381, 2615, 3853, 6164, 8522, 2989, 2072, 2195, 4350, 9969, 828, 134, 2281, 4433, 8252, 2639, 283, 9738, 138, 3223, 346, 1410, 4855, 470, 292, 9741, 3812, 5547, 3021, 13022, 260, 4424, 1143, 534, 698, 176, 2911, 134, 2242, 12444, 6919, 5304, 8062, 411, 3058, 5607, 6615, 3066, 437, 2527, 5649, 4431, 357, 2806, 2679, 4706, 6152, 2316, 4377, 3389, 4481, 1486, 1189, 1453, 2533, 3235, 72, 3912, 10557, 1086, 4081, 6267, 4363, 4108, 633, 5376, 339, 2864, 6888, 3846, 9475, 1699, 286, 282, 2653, 1836, 2585, 6152, 3926, 2423, 376, 6202, 4394, 94, 2798, 148, 4203, 5530, 470, 6111, 10274, 5419, 1811, 427, 1575, 1322, 2496, 7533, 4068, 141, 5235, 5635, 2673, 7568, 3708, 4494, 2052, 3023, 4807, 2994, 651, 3611, 4118, 3286, 2204, 539, 618, 9259, 2941, 1793, 4439, 453, 198, 4031, 127, 6114, 3006, 1096, 3209, 60, 4085, 3263, 54, 11055, 5366, 2527, 288, 3507, 3861, 7818, 2611, 168, 4466, 2579, 4976, 3290, 4357, 1111, 4508, 5511, 4783, 4291, 4125, 7385, 1002, 105, 3072, 5870], \"xaxis\": \"x\", \"yaxis\": \"y\"}, {\"alignmentgroup\": \"True\", \"bingroup\": \"x\", \"hovertemplate\": \"author_name=Justice Scalia<br>num_words=%{x}<br>count=%{y}<extra></extra>\", \"legendgroup\": \"Justice Scalia\", \"marker\": {\"color\": \"#EF553B\"}, \"name\": \"Justice Scalia\", \"offsetgroup\": \"Justice Scalia\", \"orientation\": \"v\", \"showlegend\": true, \"type\": \"histogram\", \"x\": [1854, 3634, 2134, 3230, 573, 2583, 3261, 68, 1590, 1874, 813, 4323, 711, 9450, 161, 2035, 2172, 2990, 195, 3609, 2003, 6612, 903, 12290, 301, 4772, 2609, 4157, 2474, 4661, 6595, 1015, 1219, 157, 2521, 98, 137, 5558, 992, 4542, 1194, 5377, 829, 292, 2526, 2576, 10294, 4486, 750, 11852, 2897, 117, 8648, 2597, 2695, 394, 1277, 3672, 1990, 6793, 5902, 4311, 5195, 4289, 5602, 347, 2705, 1077, 2416, 2111, 1888, 2629, 3147, 3522, 2242, 5003, 883, 12289, 1629, 4910, 4506, 4519, 5690, 6641, 18069, 2706, 2364, 5691, 1477, 3673, 282, 3409, 226, 5508, 1881, 1742, 443, 1411, 1827, 1485, 2344, 2402, 2333, 2815, 2306, 98, 5453, 864, 193, 321, 5598, 799, 579, 2298, 2888, 2752, 8359, 185, 4153, 6832, 41, 3632, 1869, 2112, 744, 3650, 3255, 4837, 3347, 69, 3391, 1133, 3644, 3797, 2898, 496, 1438, 3620, 7977, 7153, 2817, 2127, 4118, 1581, 2172, 2108, 3287, 728, 5683, 2615, 1933, 4574, 4478, 3116, 401, 1390, 4118, 2905, 4213, 3910, 2903, 2747, 2094, 334, 4229, 4472, 3712, 4463, 12081, 2973, 4731, 188, 2752, 6527, 2546, 2323, 2212, 4901, 2874, 1836, 3251, 3059, 374, 3724, 1178, 2970, 212, 3164, 6425, 2101, 1559, 45, 5459, 5627, 857, 5840, 630, 3242, 2420, 2764, 3460, 7662, 4867, 2247, 3242, 365, 8712, 371, 2326, 88, 987, 5963, 2034, 1058, 2950, 2857, 437, 3742, 8659, 1625, 335, 4975, 6181, 2055, 1578, 4156, 2297, 2974, 7115, 3582, 4006, 1363, 4644, 7322, 12290, 349, 7432, 222, 1000, 3425, 159, 3528, 289, 1530, 18063, 3916, 2468, 2760, 4616, 136, 1778, 3045, 3261, 4196, 10846, 1297, 80, 3543, 1877, 2979, 2079, 2042, 5084, 107, 316, 6043, 9038, 3447, 3550, 4868, 4275, 220, 257, 3108, 4290, 6493, 454, 20073, 5014, 2547, 4312, 8283, 2902, 5131, 1636, 3207, 4393, 741, 3110, 1148, 1080, 182, 2508, 3855, 10227, 4012, 2291, 2905, 201, 3564, 2247, 2978, 2174, 318, 2455, 3262, 5162, 3078, 2953, 3489, 9721, 457, 424, 270, 1697, 3089, 4688, 5570, 3628, 5811, 4326, 4398, 3134, 1346, 3097, 16659, 817, 4181, 6876, 2646, 1854, 9953, 460, 5945, 5298, 2991, 3564, 230, 6601, 1517, 250, 2252, 1921, 900, 2707, 5269, 2100, 1888, 665, 1301, 1726, 8470, 794, 2902, 5612, 2880, 3750, 14085, 1497, 4298, 3084, 8283, 1572, 4293, 4753, 3120, 7229, 3886, 4890, 6287, 1381, 1105, 3271, 1047, 6062, 732, 2318, 272, 7919, 5003, 4506, 988, 2269, 2172, 2353, 4766, 1428, 23488, 3577, 4644, 1900, 9761, 4489, 4309, 3177, 2261, 2894, 5334, 1057, 705, 4270, 3390, 4694, 3642, 5034, 1597, 3456, 3675, 51, 6698, 4388, 2919, 7258, 1121, 1122, 334, 15759, 8283, 3348, 2462, 7681, 5003, 175, 4935, 6108, 6004, 2935, 388, 2661, 501, 1546, 4280, 3704, 1413, 1111, 6191, 621, 3164, 7233, 4949, 1214, 1446, 6166, 6108, 2257, 2616, 1620, 3644, 1741, 6668, 4046, 1788, 281, 576, 6577, 3741, 2040, 1990, 608, 720, 5009, 2561, 1169, 2198, 274, 3977, 4824, 2641, 3348, 7405, 96, 5000, 3208, 2101, 1131, 7798, 1446, 128, 3123, 1181, 3380, 4870, 1560, 3626, 6186, 1037, 5205, 1938, 3372, 3408, 5432, 684, 890, 7171, 3289, 17712, 5391, 731, 11223, 7150, 3552, 422, 3822, 4298, 2605, 2757, 4875, 4287, 6232, 5476, 2065, 357, 1404, 190, 6014, 4333, 161, 8281, 5841, 1656, 2187, 4079, 418, 2082, 2994, 781, 3943, 3669, 1052, 684, 4497, 14082, 3495, 2094, 4804, 116, 5589, 1933, 205, 5349, 7388, 4165, 2279, 415, 4399, 9649, 3950, 2697, 3834, 8126, 2157, 3419, 2832, 3290, 1099, 3703, 3882, 6007, 1926, 1981, 4375, 3121, 1229, 3510, 2251, 1663, 2543, 3328, 4622, 2724, 1632, 3260, 4627, 499, 2215, 256, 410, 4399, 2419, 2224, 5954, 1995, 2069, 3621, 5172, 54, 1330, 2416, 158, 1598, 3751, 3942, 824, 4875, 2315, 91, 2034, 4033, 318, 1540, 214, 1284, 2434, 2931, 2313, 5269, 4627, 2793, 2654, 347, 4949, 2751, 5911, 6957, 720, 1441, 2410, 4408, 4265, 2750, 2058, 2623, 4725, 640, 4644, 2213, 30, 3644, 3095, 1074, 2769, 2567, 7143, 55, 725, 5691, 5218, 4604, 9128, 1915, 273, 2958, 1370, 3412, 235, 6412, 298, 196, 1771, 201, 1858, 2748, 861, 2902, 679, 2624, 4156, 4635, 2279, 3444, 3210, 3793, 466, 4891, 4354, 2520, 4877, 390, 327, 2820, 8016, 4466, 390, 6109, 3051, 3581, 721, 170, 1648, 1338, 5870, 98, 1226, 2541, 103, 2210, 6214, 771, 1990, 568, 2833, 4112, 2002, 1348, 2379, 2471, 3268, 3289, 6522, 2674, 316, 2261, 3652, 1428, 1258, 2584, 98, 3090, 3416, 5449, 3359, 1794, 4497, 5615, 524, 699, 2005, 2120], \"xaxis\": \"x\", \"yaxis\": \"y\"}],                        {\"barmode\": \"relative\", \"legend\": {\"title\": {\"text\": \"author_name\"}, \"tracegroupgap\": 0}, \"margin\": {\"t\": 60}, \"template\": {\"data\": {\"bar\": [{\"error_x\": {\"color\": \"#2a3f5f\"}, \"error_y\": {\"color\": \"#2a3f5f\"}, \"marker\": {\"line\": {\"color\": \"#E5ECF6\", \"width\": 0.5}}, \"type\": \"bar\"}], \"barpolar\": [{\"marker\": {\"line\": {\"color\": \"#E5ECF6\", \"width\": 0.5}}, \"type\": \"barpolar\"}], \"carpet\": [{\"aaxis\": {\"endlinecolor\": \"#2a3f5f\", \"gridcolor\": \"white\", \"linecolor\": \"white\", \"minorgridcolor\": \"white\", \"startlinecolor\": \"#2a3f5f\"}, \"baxis\": {\"endlinecolor\": \"#2a3f5f\", \"gridcolor\": \"white\", \"linecolor\": \"white\", \"minorgridcolor\": \"white\", \"startlinecolor\": \"#2a3f5f\"}, \"type\": \"carpet\"}], \"choropleth\": [{\"colorbar\": {\"outlinewidth\": 0, \"ticks\": \"\"}, \"type\": \"choropleth\"}], \"contour\": [{\"colorbar\": {\"outlinewidth\": 0, \"ticks\": \"\"}, \"colorscale\": [[0.0, \"#0d0887\"], [0.1111111111111111, \"#46039f\"], [0.2222222222222222, \"#7201a8\"], [0.3333333333333333, \"#9c179e\"], [0.4444444444444444, \"#bd3786\"], [0.5555555555555556, \"#d8576b\"], [0.6666666666666666, \"#ed7953\"], [0.7777777777777778, \"#fb9f3a\"], [0.8888888888888888, \"#fdca26\"], [1.0, \"#f0f921\"]], \"type\": \"contour\"}], \"contourcarpet\": [{\"colorbar\": {\"outlinewidth\": 0, \"ticks\": \"\"}, \"type\": \"contourcarpet\"}], \"heatmap\": [{\"colorbar\": {\"outlinewidth\": 0, \"ticks\": \"\"}, \"colorscale\": [[0.0, \"#0d0887\"], [0.1111111111111111, \"#46039f\"], [0.2222222222222222, \"#7201a8\"], [0.3333333333333333, \"#9c179e\"], [0.4444444444444444, \"#bd3786\"], [0.5555555555555556, \"#d8576b\"], [0.6666666666666666, \"#ed7953\"], [0.7777777777777778, \"#fb9f3a\"], [0.8888888888888888, \"#fdca26\"], [1.0, \"#f0f921\"]], \"type\": \"heatmap\"}], \"heatmapgl\": [{\"colorbar\": {\"outlinewidth\": 0, \"ticks\": \"\"}, \"colorscale\": [[0.0, \"#0d0887\"], [0.1111111111111111, \"#46039f\"], [0.2222222222222222, \"#7201a8\"], [0.3333333333333333, \"#9c179e\"], [0.4444444444444444, \"#bd3786\"], [0.5555555555555556, \"#d8576b\"], [0.6666666666666666, \"#ed7953\"], [0.7777777777777778, \"#fb9f3a\"], [0.8888888888888888, \"#fdca26\"], [1.0, \"#f0f921\"]], \"type\": \"heatmapgl\"}], \"histogram\": [{\"marker\": {\"colorbar\": {\"outlinewidth\": 0, \"ticks\": \"\"}}, \"type\": \"histogram\"}], \"histogram2d\": [{\"colorbar\": {\"outlinewidth\": 0, \"ticks\": \"\"}, \"colorscale\": [[0.0, \"#0d0887\"], [0.1111111111111111, \"#46039f\"], [0.2222222222222222, \"#7201a8\"], [0.3333333333333333, \"#9c179e\"], [0.4444444444444444, \"#bd3786\"], [0.5555555555555556, \"#d8576b\"], [0.6666666666666666, \"#ed7953\"], [0.7777777777777778, \"#fb9f3a\"], [0.8888888888888888, \"#fdca26\"], [1.0, \"#f0f921\"]], \"type\": \"histogram2d\"}], \"histogram2dcontour\": [{\"colorbar\": {\"outlinewidth\": 0, \"ticks\": \"\"}, \"colorscale\": [[0.0, \"#0d0887\"], [0.1111111111111111, \"#46039f\"], [0.2222222222222222, \"#7201a8\"], [0.3333333333333333, \"#9c179e\"], [0.4444444444444444, \"#bd3786\"], [0.5555555555555556, \"#d8576b\"], [0.6666666666666666, \"#ed7953\"], [0.7777777777777778, \"#fb9f3a\"], [0.8888888888888888, \"#fdca26\"], [1.0, \"#f0f921\"]], \"type\": \"histogram2dcontour\"}], \"mesh3d\": [{\"colorbar\": {\"outlinewidth\": 0, \"ticks\": \"\"}, \"type\": \"mesh3d\"}], \"parcoords\": [{\"line\": {\"colorbar\": {\"outlinewidth\": 0, \"ticks\": \"\"}}, \"type\": \"parcoords\"}], \"pie\": [{\"automargin\": true, \"type\": \"pie\"}], \"scatter\": [{\"marker\": {\"colorbar\": {\"outlinewidth\": 0, \"ticks\": \"\"}}, \"type\": \"scatter\"}], \"scatter3d\": [{\"line\": {\"colorbar\": {\"outlinewidth\": 0, \"ticks\": \"\"}}, \"marker\": {\"colorbar\": {\"outlinewidth\": 0, \"ticks\": \"\"}}, \"type\": \"scatter3d\"}], \"scattercarpet\": [{\"marker\": {\"colorbar\": {\"outlinewidth\": 0, \"ticks\": \"\"}}, \"type\": \"scattercarpet\"}], \"scattergeo\": [{\"marker\": {\"colorbar\": {\"outlinewidth\": 0, \"ticks\": \"\"}}, \"type\": \"scattergeo\"}], \"scattergl\": [{\"marker\": {\"colorbar\": {\"outlinewidth\": 0, \"ticks\": \"\"}}, \"type\": \"scattergl\"}], \"scattermapbox\": [{\"marker\": {\"colorbar\": {\"outlinewidth\": 0, \"ticks\": \"\"}}, \"type\": \"scattermapbox\"}], \"scatterpolar\": [{\"marker\": {\"colorbar\": {\"outlinewidth\": 0, \"ticks\": \"\"}}, \"type\": \"scatterpolar\"}], \"scatterpolargl\": [{\"marker\": {\"colorbar\": {\"outlinewidth\": 0, \"ticks\": \"\"}}, \"type\": \"scatterpolargl\"}], \"scatterternary\": [{\"marker\": {\"colorbar\": {\"outlinewidth\": 0, \"ticks\": \"\"}}, \"type\": \"scatterternary\"}], \"surface\": [{\"colorbar\": {\"outlinewidth\": 0, \"ticks\": \"\"}, \"colorscale\": [[0.0, \"#0d0887\"], [0.1111111111111111, \"#46039f\"], [0.2222222222222222, \"#7201a8\"], [0.3333333333333333, \"#9c179e\"], [0.4444444444444444, \"#bd3786\"], [0.5555555555555556, \"#d8576b\"], [0.6666666666666666, \"#ed7953\"], [0.7777777777777778, \"#fb9f3a\"], [0.8888888888888888, \"#fdca26\"], [1.0, \"#f0f921\"]], \"type\": \"surface\"}], \"table\": [{\"cells\": {\"fill\": {\"color\": \"#EBF0F8\"}, \"line\": {\"color\": \"white\"}}, \"header\": {\"fill\": {\"color\": \"#C8D4E3\"}, \"line\": {\"color\": \"white\"}}, \"type\": \"table\"}]}, \"layout\": {\"annotationdefaults\": {\"arrowcolor\": \"#2a3f5f\", \"arrowhead\": 0, \"arrowwidth\": 1}, \"autotypenumbers\": \"strict\", \"coloraxis\": {\"colorbar\": {\"outlinewidth\": 0, \"ticks\": \"\"}}, \"colorscale\": {\"diverging\": [[0, \"#8e0152\"], [0.1, \"#c51b7d\"], [0.2, \"#de77ae\"], [0.3, \"#f1b6da\"], [0.4, \"#fde0ef\"], [0.5, \"#f7f7f7\"], [0.6, \"#e6f5d0\"], [0.7, \"#b8e186\"], [0.8, \"#7fbc41\"], [0.9, \"#4d9221\"], [1, \"#276419\"]], \"sequential\": [[0.0, \"#0d0887\"], [0.1111111111111111, \"#46039f\"], [0.2222222222222222, \"#7201a8\"], [0.3333333333333333, \"#9c179e\"], [0.4444444444444444, \"#bd3786\"], [0.5555555555555556, \"#d8576b\"], [0.6666666666666666, \"#ed7953\"], [0.7777777777777778, \"#fb9f3a\"], [0.8888888888888888, \"#fdca26\"], [1.0, \"#f0f921\"]], \"sequentialminus\": [[0.0, \"#0d0887\"], [0.1111111111111111, \"#46039f\"], [0.2222222222222222, \"#7201a8\"], [0.3333333333333333, \"#9c179e\"], [0.4444444444444444, \"#bd3786\"], [0.5555555555555556, \"#d8576b\"], [0.6666666666666666, \"#ed7953\"], [0.7777777777777778, \"#fb9f3a\"], [0.8888888888888888, \"#fdca26\"], [1.0, \"#f0f921\"]]}, \"colorway\": [\"#636efa\", \"#EF553B\", \"#00cc96\", \"#ab63fa\", \"#FFA15A\", \"#19d3f3\", \"#FF6692\", \"#B6E880\", \"#FF97FF\", \"#FECB52\"], \"font\": {\"color\": \"#2a3f5f\"}, \"geo\": {\"bgcolor\": \"white\", \"lakecolor\": \"white\", \"landcolor\": \"#E5ECF6\", \"showlakes\": true, \"showland\": true, \"subunitcolor\": \"white\"}, \"hoverlabel\": {\"align\": \"left\"}, \"hovermode\": \"closest\", \"mapbox\": {\"style\": \"light\"}, \"paper_bgcolor\": \"white\", \"plot_bgcolor\": \"#E5ECF6\", \"polar\": {\"angularaxis\": {\"gridcolor\": \"white\", \"linecolor\": \"white\", \"ticks\": \"\"}, \"bgcolor\": \"#E5ECF6\", \"radialaxis\": {\"gridcolor\": \"white\", \"linecolor\": \"white\", \"ticks\": \"\"}}, \"scene\": {\"xaxis\": {\"backgroundcolor\": \"#E5ECF6\", \"gridcolor\": \"white\", \"gridwidth\": 2, \"linecolor\": \"white\", \"showbackground\": true, \"ticks\": \"\", \"zerolinecolor\": \"white\"}, \"yaxis\": {\"backgroundcolor\": \"#E5ECF6\", \"gridcolor\": \"white\", \"gridwidth\": 2, \"linecolor\": \"white\", \"showbackground\": true, \"ticks\": \"\", \"zerolinecolor\": \"white\"}, \"zaxis\": {\"backgroundcolor\": \"#E5ECF6\", \"gridcolor\": \"white\", \"gridwidth\": 2, \"linecolor\": \"white\", \"showbackground\": true, \"ticks\": \"\", \"zerolinecolor\": \"white\"}}, \"shapedefaults\": {\"line\": {\"color\": \"#2a3f5f\"}}, \"ternary\": {\"aaxis\": {\"gridcolor\": \"white\", \"linecolor\": \"white\", \"ticks\": \"\"}, \"baxis\": {\"gridcolor\": \"white\", \"linecolor\": \"white\", \"ticks\": \"\"}, \"bgcolor\": \"#E5ECF6\", \"caxis\": {\"gridcolor\": \"white\", \"linecolor\": \"white\", \"ticks\": \"\"}}, \"title\": {\"x\": 0.05}, \"xaxis\": {\"automargin\": true, \"gridcolor\": \"white\", \"linecolor\": \"white\", \"ticks\": \"\", \"title\": {\"standoff\": 15}, \"zerolinecolor\": \"white\", \"zerolinewidth\": 2}, \"yaxis\": {\"automargin\": true, \"gridcolor\": \"white\", \"linecolor\": \"white\", \"ticks\": \"\", \"title\": {\"standoff\": 15}, \"zerolinecolor\": \"white\", \"zerolinewidth\": 2}}}, \"xaxis\": {\"anchor\": \"y\", \"domain\": [0.0, 1.0], \"title\": {\"text\": \"num_words\"}}, \"yaxis\": {\"anchor\": \"x\", \"domain\": [0.0, 1.0], \"title\": {\"text\": \"count\"}}},                        {\"responsive\": true}                    ).then(function(){\n",
       "                            \n",
       "var gd = document.getElementById('3ba9a230-a4f4-4f37-9342-52aa57707b0e');\n",
       "var x = new MutationObserver(function (mutations, observer) {{\n",
       "        var display = window.getComputedStyle(gd).display;\n",
       "        if (!display || display === 'none') {{\n",
       "            console.log([gd, 'removed!']);\n",
       "            Plotly.purge(gd);\n",
       "            observer.disconnect();\n",
       "        }}\n",
       "}});\n",
       "\n",
       "// Listen for the removal of the full notebook cells\n",
       "var notebookContainer = gd.closest('#notebook-container');\n",
       "if (notebookContainer) {{\n",
       "    x.observe(notebookContainer, {childList: true});\n",
       "}}\n",
       "\n",
       "// Listen for the clearing of the current output cell\n",
       "var outputEl = gd.closest('.output');\n",
       "if (outputEl) {{\n",
       "    x.observe(outputEl, {childList: true});\n",
       "}}\n",
       "\n",
       "                        })                };                });            </script>        </div>"
      ]
     },
     "metadata": {},
     "output_type": "display_data"
    }
   ],
   "source": [
    "px.histogram(rbg_scalia, \"num_words\", color = \"author_name\")"
   ]
  },
  {
   "cell_type": "code",
   "execution_count": 44,
   "metadata": {},
   "outputs": [
    {
     "ename": "NameError",
     "evalue": "name 'z' is not defined",
     "output_type": "error",
     "traceback": [
      "\u001b[0;31m---------------------------------------------------------------------------\u001b[0m",
      "\u001b[0;31mNameError\u001b[0m                                 Traceback (most recent call last)",
      "\u001b[0;32m<ipython-input-44-3a710d2a84f8>\u001b[0m in \u001b[0;36m<module>\u001b[0;34m\u001b[0m\n\u001b[0;32m----> 1\u001b[0;31m \u001b[0mz\u001b[0m\u001b[0;34m\u001b[0m\u001b[0;34m\u001b[0m\u001b[0m\n\u001b[0m",
      "\u001b[0;31mNameError\u001b[0m: name 'z' is not defined"
     ]
    }
   ],
   "source": []
  },
  {
   "cell_type": "code",
   "execution_count": null,
   "metadata": {},
   "outputs": [],
   "source": []
  }
 ],
 "metadata": {
  "kernelspec": {
   "display_name": "Python 3",
   "language": "python",
   "name": "python3"
  },
  "language_info": {
   "codemirror_mode": {
    "name": "ipython",
    "version": 3
   },
   "file_extension": ".py",
   "mimetype": "text/x-python",
   "name": "python",
   "nbconvert_exporter": "python",
   "pygments_lexer": "ipython3",
   "version": "3.8.3"
  }
 },
 "nbformat": 4,
 "nbformat_minor": 4
}
